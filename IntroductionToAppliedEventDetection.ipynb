{
 "cells": [
  {
   "cell_type": "markdown",
   "id": "228e6e4d-6382-414f-8e97-cd61a718157d",
   "metadata": {},
   "source": [
    "## Applied Event Detection for Time-Series Data using Space-Filling Curves on the Example of Automotive Data"
   ]
  },
  {
   "cell_type": "markdown",
   "id": "440a422c-9ce7-4e0e-aeb6-0cc794b0745f",
   "metadata": {},
   "source": [
    "Event detection is essential for various application domains. In this example, we focus on the automotive domain. We will use space-filling curves (SFCs) to reduce data dimensionality of the original data space for our time-series data. Next, we will work on the compactified, single-dimensional data space to identify patterns that correlate with patterns in the multi-dimensional data space and hence, can be interpreted as events."
   ]
  },
  {
   "cell_type": "markdown",
   "id": "d2fad141-eaab-48d8-9f50-07f64aa26444",
   "metadata": {},
   "source": [
    "### 1. Introducing Space-Filling Curve Computations"
   ]
  },
  {
   "cell_type": "markdown",
   "id": "63d882d4-8dcd-48e1-80ff-d64fb4e2ea19",
   "metadata": {},
   "source": [
    "First, we use an external library to compute single dimensional representations from multi-dimensional data called [zCurve](https://github.com/rmrschub/zCurve). The library can be used as follows:"
   ]
  },
  {
   "cell_type": "code",
   "execution_count": 8,
   "id": "a2138f6b-d766-4d0f-b8b5-7c93cf335e95",
   "metadata": {},
   "outputs": [
    {
     "name": "stdout",
     "output_type": "stream",
     "text": [
      "10248\n"
     ]
    }
   ],
   "source": [
    "import zCurve as z\n",
    "\n",
    "# Combine the 3D point (2, 16, 8) into a Morton code.\n",
    "morton_code = z.interlace(2, 16, 8)\n",
    "assert morton_code == 10248, \"morton_code should be 10248\"\n",
    "print( morton_code )"
   ]
  },
  {
   "cell_type": "markdown",
   "id": "54310a81-a9de-4815-ab15-4b91a7ec2856",
   "metadata": {},
   "source": [
    "Next, we focus on two-dimensional data as found in GPS positions. Please note that we have transformed floating point, GPS positions to positive integers as SFCs operate on positive input value."
   ]
  },
  {
   "cell_type": "code",
   "execution_count": 9,
   "id": "121bc5e8-c4c2-4158-bd29-29b6cd2fe9c8",
   "metadata": {},
   "outputs": [
    {
     "name": "stdout",
     "output_type": "stream",
     "text": [
      "1606428908008832\n",
      "1606429041286208\n"
     ]
    }
   ],
   "source": [
    "import zCurve as z\n",
    "\n",
    "morton_code1 = z.interlace(57772400, 12765000, dims=2)\n",
    "assert morton_code1 == 1606428908008832, \"morton_code1 should be 1606428908008832\"\n",
    "\n",
    "morton_code2 = z.interlace(57773800, 12772000, dims=2)\n",
    "assert morton_code2 == 1606429041286208, \"morton_code2 should be 1606429041286208\"\n",
    "\n",
    "print( str(morton_code1) + \"\\n\" + str(morton_code2) )"
   ]
  },
  {
   "cell_type": "markdown",
   "id": "39b38b27-59b1-46a3-b07d-11aa6451449a",
   "metadata": {},
   "source": [
    "Next, we add a function to turn floating point numbers into positive integers using a dedicated function. The expected values originate from the [corresponding C implementation](https://github.com/chrberger/cluon-cabinet/blob/ZEBRA/test/tests-morton.cpp#L46-L84)."
   ]
  },
  {
   "cell_type": "code",
   "execution_count": 10,
   "id": "51f6c6af-20c9-4109-a3e4-54c5c73274c1",
   "metadata": {},
   "outputs": [
    {
     "name": "stdout",
     "output_type": "stream",
     "text": [
      "Two positive floats: 664749436224648\n",
      "One positive/one negative float: 231657429695220\n",
      "Two negative floats: 171054631290070\n",
      "One negative/one positive float floats: 769185334910896\n"
     ]
    }
   ],
   "source": [
    "import zCurve as z\n",
    "\n",
    "def calculateMortonFromTwoLatLonFloats_with_zCurve(x, y):\n",
    "    # Fix floating point numbers to six decimal places.\n",
    "    x_int = int( round( (x + 90.0), 5 ) * 100000 )\n",
    "    y_int = int( round( (y + 180.0), 5 ) * 100000 )\n",
    "    value = z.interlace(x_int, y_int, dims=2)\n",
    "    return value\n",
    "\n",
    "morton_code1_f = calculateMortonFromTwoLatLonFloats_with_zCurve(60.734398, 14.768745)\n",
    "assert morton_code1_f == 664749436224648, \"morton_code1_f should be 664749436224648\"\n",
    "print( \"Two positive floats: \" + str(morton_code1_f) )\n",
    "\n",
    "morton_code2_f = calculateMortonFromTwoLatLonFloats_with_zCurve(38.969745, -77.201958)\n",
    "assert morton_code2_f == 231657429695220, \"morton_code2_f should be 231657429695220\"\n",
    "print( \"One positive/one negative float: \" + str(morton_code2_f) )\n",
    "\n",
    "morton_code3_f = calculateMortonFromTwoLatLonFloats_with_zCurve(-34.619055, -58.364067)\n",
    "assert morton_code3_f == 171054631290070, \"morton_code3_f should be 171054631290070\"\n",
    "print( \"Two negative floats: \" + str(morton_code3_f) )\n",
    "\n",
    "morton_code4_f = calculateMortonFromTwoLatLonFloats_with_zCurve(-33.956603, 150.949719)\n",
    "assert morton_code4_f == 769185334910896, \"morton_code4_f should be 769185334910896\"\n",
    "print( \"One negative/one positive float floats: \" + str(morton_code4_f) )"
   ]
  },
  {
   "cell_type": "markdown",
   "id": "8aa9b87f-c218-4771-b354-af2ae77935c9",
   "metadata": {},
   "source": [
    "As we want identical results on Python and C++, we supply an own implementation to calculate Morton codes from two-dimensional values. The corresponding C++ implementation can be found [here](https://github.com/chrberger/cluon-cabinet/blob/ZEBRA/src/morton.hpp#L41-L74) and the original source [here (CC BY-SA 4.0)](https://stackoverflow.com/a/30562230). Now, it is important that we are precise about the underlying dataypes and hence, we are using NumPy."
   ]
  },
  {
   "cell_type": "code",
   "execution_count": 11,
   "id": "8f8bbbfe-9c1f-41c7-8298-f797429af5fb",
   "metadata": {},
   "outputs": [
    {
     "name": "stdout",
     "output_type": "stream",
     "text": [
      "1606428908008832\n",
      "(57772400, 12765000)\n"
     ]
    }
   ],
   "source": [
    "import numpy as np\n",
    "\n",
    "def mortonEncode2D(a, b):\n",
    "    x = np.uint64(a)\n",
    "    y = np.uint64(b)\n",
    "\n",
    "    x = (x | (x << np.uint64(16))) & np.uint64(0x0000FFFF0000FFFF)\n",
    "    x = (x | (x << np.uint64(8)))  & np.uint64(0x00FF00FF00FF00FF)\n",
    "    x = (x | (x << np.uint64(4)))  & np.uint64(0x0F0F0F0F0F0F0F0F)\n",
    "    x = (x | (x << np.uint64(2)))  & np.uint64(0x3333333333333333)\n",
    "    x = (x | (x << np.uint64(1)))  & np.uint64(0x5555555555555555)\n",
    "\n",
    "    y = (y | (y << np.uint64(16))) & np.uint64(0x0000FFFF0000FFFF)\n",
    "    y = (y | (y << np.uint64(8)))  & np.uint64(0x00FF00FF00FF00FF)\n",
    "    y = (y | (y << np.uint64(4)))  & np.uint64(0x0F0F0F0F0F0F0F0F)\n",
    "    y = (y | (y << np.uint64(2)))  & np.uint64(0x3333333333333333)\n",
    "    y = (y | (y << np.uint64(1)))  & np.uint64(0x5555555555555555)\n",
    "\n",
    "    result = np.uint64( x | (y << np.uint64(1)) )\n",
    "    return result\n",
    "\n",
    "def mortonExtractEvenBits(a):\n",
    "    x = np.uint64(a)\n",
    "    \n",
    "    x = x & np.uint64(0x5555555555555555)\n",
    "    x = (x | (x >> np.uint64(1)))  & np.uint64(0x3333333333333333)\n",
    "    x = (x | (x >> np.uint64(2)))  & np.uint64(0x0F0F0F0F0F0F0F0F)\n",
    "    x = (x | (x >> np.uint64(4)))  & np.uint64(0x00FF00FF00FF00FF)\n",
    "    x = (x | (x >> np.uint64(8)))  & np.uint64(0x0000FFFF0000FFFF)\n",
    "    x = (x | (x >> np.uint64(16))) & np.uint64(0x00000000FFFFFFFF)\n",
    "    \n",
    "    return x.astype(np.uint32)\n",
    "\n",
    "def mortonDecode2D(a):\n",
    "    _a = np.uint64(a)\n",
    "    \n",
    "    x = mortonExtractEvenBits(_a)\n",
    "    y = mortonExtractEvenBits(_a >> np.uint64(1))\n",
    "    \n",
    "    return (x, y)\n",
    "\n",
    "morton_code1 = mortonEncode2D(57772400, 12765000)\n",
    "assert morton_code1 == 1606428908008832, \"morton_code1 should be 1606428908008832\"\n",
    "print( morton_code1 )\n",
    "\n",
    "decode_morton_code1 = mortonDecode2D(1606428908008832)\n",
    "assert decode_morton_code1 == (57772400, 12765000), \"decode_morton_code1 should be (57772400, 12765000)\"\n",
    "print( decode_morton_code1 )"
   ]
  },
  {
   "cell_type": "markdown",
   "id": "f6aff63b-3c82-4557-b0b8-65b60fb83f44",
   "metadata": {},
   "source": [
    "Finally, we can compare the two implementations."
   ]
  },
  {
   "cell_type": "code",
   "execution_count": 12,
   "id": "508c916c-0e41-472f-ad2b-ee9cf499eb7f",
   "metadata": {},
   "outputs": [
    {
     "name": "stdout",
     "output_type": "stream",
     "text": [
      "0.0\n"
     ]
    }
   ],
   "source": [
    "morton_code1_3rd = z.interlace(57772400, 12765000, dims=2)\n",
    "morton_code1_own = mortonEncode2D(57772400, 12765000)\n",
    "\n",
    "print( morton_code1_3rd - morton_code1_own )"
   ]
  },
  {
   "cell_type": "markdown",
   "id": "cfdcf1e9-2d4b-4363-9ba1-280c2c421918",
   "metadata": {},
   "source": [
    "Now, we are putting every piece together."
   ]
  },
  {
   "cell_type": "code",
   "execution_count": 13,
   "id": "16b48297-1612-4340-8b11-fe5575705b7d",
   "metadata": {},
   "outputs": [
    {
     "name": "stdout",
     "output_type": "stream",
     "text": [
      "Two positive floats: 664749436224642\n",
      "Delta to 3rd party library: -6.0\n",
      "One positive/one negative float: 231657429695220\n",
      "Delta to 3rd party library: 0.0\n",
      "Two negative floats: 171054631290070\n",
      "Delta to 3rd party library: 0.0\n",
      "One negative/one positive float floats: 769185334910861\n",
      "Delta to 3rd party library: -35.0\n"
     ]
    }
   ],
   "source": [
    "def calculateMortonFromTwoLatLonFloats(x, y):\n",
    "    _x = np.float32(x)\n",
    "    _y = np.float32(y)\n",
    "    # Fix floating point numbers to six decimal places.\n",
    "    x_int = np.uint32( np.round( (_x + np.float32(90.0) ), 6 ) * np.uint32(100000) )\n",
    "    y_int = np.uint32( np.round( (_y + np.float32(180.0) ), 6 ) * np.uint32(100000) )\n",
    "    value = mortonEncode2D(x_int, y_int)\n",
    "    return value\n",
    "\n",
    "p1 = (60.734398, 14.768745)\n",
    "morton_code1 = calculateMortonFromTwoLatLonFloats(p1[0], p1[1])\n",
    "assert morton_code1 == 664749436224642, \"morton_code1 should be 664749436224642\"\n",
    "print( \"Two positive floats: \" + str(morton_code1) )\n",
    "print( \"Delta to 3rd party library: \" + str(morton_code1 - morton_code1_f) )\n",
    "\n",
    "p2 = (38.969745, -77.201958)\n",
    "morton_code2 = calculateMortonFromTwoLatLonFloats(p2[0], p2[1])\n",
    "assert morton_code2 == 231657429695220, \"morton_code2 should be 231657429695220\"\n",
    "print( \"One positive/one negative float: \" + str(morton_code2) )\n",
    "print( \"Delta to 3rd party library: \" + str(morton_code2 - morton_code2_f) )\n",
    "\n",
    "p3 = (-34.619055, -58.364067)\n",
    "morton_code3 = calculateMortonFromTwoLatLonFloats(p3[0], p3[1])\n",
    "assert morton_code3 == 171054631290070, \"morton_code3 should be 171054631290070\"\n",
    "print( \"Two negative floats: \" + str(morton_code3) )\n",
    "print( \"Delta to 3rd party library: \" + str(morton_code3 - morton_code3_f) )\n",
    "\n",
    "p4 = (-33.956603, 150.949719)\n",
    "morton_code4 = calculateMortonFromTwoLatLonFloats(p4[0], p4[1])\n",
    "assert morton_code4 == 769185334910861, \"morton_code4 should be 769185334910861\"\n",
    "print( \"One negative/one positive float floats: \" + str(morton_code4) )\n",
    "print( \"Delta to 3rd party library: \" + str(morton_code4 - morton_code4_f) )"
   ]
  },
  {
   "cell_type": "markdown",
   "id": "b3f5ec89-43ae-4dd9-a3e2-f99410a1a511",
   "metadata": {},
   "source": [
    "Finally, we convert the Morton code back into two floating point numbers."
   ]
  },
  {
   "cell_type": "code",
   "execution_count": 14,
   "id": "6dc797e5-fce5-4f5d-bb11-5901add50503",
   "metadata": {},
   "outputs": [
    {
     "name": "stdout",
     "output_type": "stream",
     "text": [
      "60.734402 14.768730\n",
      "Delta: 0.000004 -0.000015\n",
      "38.969742 -77.201958\n",
      "Delta: -0.000003 0.000000\n",
      "-34.619061 -58.364071\n",
      "Delta: -0.000006 -0.000004\n",
      "-33.956612 150.949707\n",
      "Delta: -0.000009 -0.000012\n"
     ]
    }
   ],
   "source": [
    "import sys\n",
    "\n",
    "def calculateTwoLatLonFloatsFromMorton(a):\n",
    "    pair = mortonDecode2D(a)\n",
    "    _x = np.float32(pair[0] / np.float32(100000.0) - np.float32(90.0))\n",
    "    _y = np.float32(pair[1] / np.float32(100000.0) - np.float32(180.0))\n",
    "    return (_x, _y)\n",
    "\n",
    "eps = 0.00001\n",
    "decode_morton_code1 = calculateTwoLatLonFloatsFromMorton(morton_code1)\n",
    "print( \"{:.6f}\".format(decode_morton_code1[0]) + \" \" + \"{:.6f}\".format(decode_morton_code1[1]))\n",
    "print( \"Delta: \" + \"{:.6f}\".format(decode_morton_code1[0] - p1[0]) + \" \" + \"{:.6f}\".format(decode_morton_code1[1] - p1[1]))\n",
    "assert np.fabs(decode_morton_code1[0] - p1[0]) < eps , \"Delta for p1 after decoding too large\"\n",
    "\n",
    "decode_morton_code2 = calculateTwoLatLonFloatsFromMorton(morton_code2)\n",
    "print( \"{:.6f}\".format(decode_morton_code2[0]) + \" \" + \"{:.6f}\".format(decode_morton_code2[1]))\n",
    "print( \"Delta: \" + \"{:.6f}\".format(decode_morton_code2[0] - p2[0]) + \" \" + \"{:.6f}\".format(decode_morton_code2[1] - p2[1]))\n",
    "assert np.fabs(decode_morton_code2[0] - p2[0]) < eps , \"Delta for p2 after decoding too large\"\n",
    "\n",
    "decode_morton_code3 = calculateTwoLatLonFloatsFromMorton(morton_code3)\n",
    "print( \"{:.6f}\".format(decode_morton_code3[0]) + \" \" + \"{:.6f}\".format(decode_morton_code3[1]))\n",
    "print( \"Delta: \" + \"{:.6f}\".format(decode_morton_code3[0] - p3[0]) + \" \" + \"{:.6f}\".format(decode_morton_code3[1] - p3[1]))\n",
    "assert np.fabs(decode_morton_code3[0] - p3[0]) < eps , \"Delta for p3 after decoding too large\"\n",
    "\n",
    "decode_morton_code4 = calculateTwoLatLonFloatsFromMorton(morton_code4)\n",
    "print( \"{:.6f}\".format(decode_morton_code4[0]) + \" \" + \"{:.6f}\".format(decode_morton_code4[1]))\n",
    "print( \"Delta: \" + \"{:.6f}\".format(decode_morton_code4[0] - p4[0]) + \" \" + \"{:.6f}\".format(decode_morton_code4[1] - p4[1]))\n",
    "assert np.fabs(decode_morton_code4[0] - p4[0]) < eps , \"Delta for p4 after decoding too large\""
   ]
  }
 ],
 "metadata": {
  "kernelspec": {
   "display_name": "Python 3 (ipykernel)",
   "language": "python",
   "name": "python3"
  },
  "language_info": {
   "codemirror_mode": {
    "name": "ipython",
    "version": 3
   },
   "file_extension": ".py",
   "mimetype": "text/x-python",
   "name": "python",
   "nbconvert_exporter": "python",
   "pygments_lexer": "ipython3",
   "version": "3.11.6"
  }
 },
 "nbformat": 4,
 "nbformat_minor": 5
}
