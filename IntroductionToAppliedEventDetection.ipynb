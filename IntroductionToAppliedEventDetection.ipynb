{
 "cells": [
  {
   "cell_type": "markdown",
   "id": "228e6e4d-6382-414f-8e97-cd61a718157d",
   "metadata": {},
   "source": [
    "## Applying Space-Filling Curves for Data Science with Time-Series Data on the Example of Automotive Data"
   ]
  },
  {
   "cell_type": "markdown",
   "id": "440a422c-9ce7-4e0e-aeb6-0cc794b0745f",
   "metadata": {},
   "source": [
    "Event detection is essential for various application domains. In this example, we focus on the automotive domain. We will use space-filling curves (SFCs) to reduce data dimensionality of the original data space to analyze time-series data. Next, we will work on the compactified, single-dimensional data space to identify patterns that correlate with patterns in the multi-dimensional data space and hence, can be interpreted as events."
   ]
  },
  {
   "cell_type": "markdown",
   "id": "d2fad141-eaab-48d8-9f50-07f64aa26444",
   "metadata": {},
   "source": [
    "### 1. Introducing Space-Filling Curve Computations"
   ]
  },
  {
   "cell_type": "markdown",
   "id": "63d882d4-8dcd-48e1-80ff-d64fb4e2ea19",
   "metadata": {},
   "source": [
    "First, we use an external library to compute single dimensional representations from multi-dimensional data called [zCurve](https://github.com/rmrschub/zCurve). The library can be used as follows:"
   ]
  },
  {
   "cell_type": "code",
   "execution_count": 91,
   "id": "a2138f6b-d766-4d0f-b8b5-7c93cf335e95",
   "metadata": {},
   "outputs": [
    {
     "name": "stdout",
     "output_type": "stream",
     "text": [
      "10248\n"
     ]
    }
   ],
   "source": [
    "import zCurve as z\n",
    "\n",
    "# Combine the 3D point (2, 16, 8) into a Morton code.\n",
    "morton_code = z.interlace(2, 16, 8)\n",
    "assert morton_code == 10248, \"morton_code should be 10248\"\n",
    "print( morton_code )"
   ]
  },
  {
   "cell_type": "markdown",
   "id": "54310a81-a9de-4815-ab15-4b91a7ec2856",
   "metadata": {},
   "source": [
    "Next, we focus on two-dimensional data as found in GPS positions. Please note that we have transformed floating point GPS positions to positive integers as SFCs typically operate on positive input values."
   ]
  },
  {
   "cell_type": "code",
   "execution_count": 92,
   "id": "121bc5e8-c4c2-4158-bd29-29b6cd2fe9c8",
   "metadata": {},
   "outputs": [
    {
     "name": "stdout",
     "output_type": "stream",
     "text": [
      "1606428908008832\n",
      "1606429041286208\n"
     ]
    }
   ],
   "source": [
    "import zCurve as z\n",
    "\n",
    "morton_code1 = z.interlace(57772400, 12765000, dims=2)\n",
    "assert morton_code1 == 1606428908008832, \"morton_code1 should be 1606428908008832\"\n",
    "\n",
    "morton_code2 = z.interlace(57773800, 12772000, dims=2)\n",
    "assert morton_code2 == 1606429041286208, \"morton_code2 should be 1606429041286208\"\n",
    "\n",
    "print( str(morton_code1) + \"\\n\" + str(morton_code2) )"
   ]
  },
  {
   "cell_type": "markdown",
   "id": "39b38b27-59b1-46a3-b07d-11aa6451449a",
   "metadata": {},
   "source": [
    "Next, we add a function to turn floating point numbers into positive integers using a dedicated function. The expected values originate from the [corresponding C implementation](https://github.com/chrberger/cluon-cabinet/blob/ZEBRA/test/tests-morton.cpp#L46-L84)."
   ]
  },
  {
   "cell_type": "code",
   "execution_count": 93,
   "id": "51f6c6af-20c9-4109-a3e4-54c5c73274c1",
   "metadata": {},
   "outputs": [
    {
     "name": "stdout",
     "output_type": "stream",
     "text": [
      "Two positive floats: 664749436224648\n",
      "One positive/one negative float: 231657429695220\n",
      "Two negative floats: 171054631290070\n",
      "One negative/one positive float floats: 769185334910896\n"
     ]
    }
   ],
   "source": [
    "import zCurve as z\n",
    "\n",
    "def calculateMortonFromTwoLatLonFloats_with_zCurve(x, y):\n",
    "    # Cap floating point numbers to six decimal places.\n",
    "    x_int = int( round( (x + 90.0), 5 ) * 100000 )\n",
    "    y_int = int( round( (y + 180.0), 5 ) * 100000 )\n",
    "    value = z.interlace(x_int, y_int, dims=2)\n",
    "    return value\n",
    "\n",
    "morton_code1_f = calculateMortonFromTwoLatLonFloats_with_zCurve(60.734398, 14.768745)\n",
    "assert morton_code1_f == 664749436224648, \"morton_code1_f should be 664749436224648\"\n",
    "print( \"Two positive floats: \" + str(morton_code1_f) )\n",
    "\n",
    "morton_code2_f = calculateMortonFromTwoLatLonFloats_with_zCurve(38.969745, -77.201958)\n",
    "assert morton_code2_f == 231657429695220, \"morton_code2_f should be 231657429695220\"\n",
    "print( \"One positive/one negative float: \" + str(morton_code2_f) )\n",
    "\n",
    "morton_code3_f = calculateMortonFromTwoLatLonFloats_with_zCurve(-34.619055, -58.364067)\n",
    "assert morton_code3_f == 171054631290070, \"morton_code3_f should be 171054631290070\"\n",
    "print( \"Two negative floats: \" + str(morton_code3_f) )\n",
    "\n",
    "morton_code4_f = calculateMortonFromTwoLatLonFloats_with_zCurve(-33.956603, 150.949719)\n",
    "assert morton_code4_f == 769185334910896, \"morton_code4_f should be 769185334910896\"\n",
    "print( \"One negative/one positive float floats: \" + str(morton_code4_f) )"
   ]
  },
  {
   "cell_type": "markdown",
   "id": "8aa9b87f-c218-4771-b354-af2ae77935c9",
   "metadata": {},
   "source": [
    "As we want identical results on Python and C++, we supply an own implementation to calculate Morton codes from two-dimensional values. The corresponding C++ implementation can be found [here](https://github.com/chrberger/cluon-cabinet/blob/ZEBRA/src/morton.hpp#L41-L74) and the original source [here (CC BY-SA 4.0)](https://stackoverflow.com/a/30562230). Now, it is important that we are precise about the underlying dataypes and hence, we are using NumPy."
   ]
  },
  {
   "cell_type": "code",
   "execution_count": 94,
   "id": "8f8bbbfe-9c1f-41c7-8298-f797429af5fb",
   "metadata": {},
   "outputs": [
    {
     "name": "stdout",
     "output_type": "stream",
     "text": [
      "1606428908008832\n",
      "(57772400, 12765000)\n"
     ]
    }
   ],
   "source": [
    "import numpy as np\n",
    "\n",
    "def mortonEncode2D(a, b):\n",
    "    x = np.uint64(a)\n",
    "    y = np.uint64(b)\n",
    "\n",
    "    x = (x | (x << np.uint64(16))) & np.uint64(0x0000FFFF0000FFFF)\n",
    "    x = (x | (x << np.uint64(8)))  & np.uint64(0x00FF00FF00FF00FF)\n",
    "    x = (x | (x << np.uint64(4)))  & np.uint64(0x0F0F0F0F0F0F0F0F)\n",
    "    x = (x | (x << np.uint64(2)))  & np.uint64(0x3333333333333333)\n",
    "    x = (x | (x << np.uint64(1)))  & np.uint64(0x5555555555555555)\n",
    "\n",
    "    y = (y | (y << np.uint64(16))) & np.uint64(0x0000FFFF0000FFFF)\n",
    "    y = (y | (y << np.uint64(8)))  & np.uint64(0x00FF00FF00FF00FF)\n",
    "    y = (y | (y << np.uint64(4)))  & np.uint64(0x0F0F0F0F0F0F0F0F)\n",
    "    y = (y | (y << np.uint64(2)))  & np.uint64(0x3333333333333333)\n",
    "    y = (y | (y << np.uint64(1)))  & np.uint64(0x5555555555555555)\n",
    "\n",
    "    result = np.uint64( x | (y << np.uint64(1)) )\n",
    "    return result\n",
    "\n",
    "def mortonExtractEvenBits(a):\n",
    "    x = np.uint64(a)\n",
    "    \n",
    "    x = x & np.uint64(0x5555555555555555)\n",
    "    x = (x | (x >> np.uint64(1)))  & np.uint64(0x3333333333333333)\n",
    "    x = (x | (x >> np.uint64(2)))  & np.uint64(0x0F0F0F0F0F0F0F0F)\n",
    "    x = (x | (x >> np.uint64(4)))  & np.uint64(0x00FF00FF00FF00FF)\n",
    "    x = (x | (x >> np.uint64(8)))  & np.uint64(0x0000FFFF0000FFFF)\n",
    "    x = (x | (x >> np.uint64(16))) & np.uint64(0x00000000FFFFFFFF)\n",
    "    \n",
    "    return x.astype(np.uint32)\n",
    "\n",
    "def mortonDecode2D(a):\n",
    "    _a = np.uint64(a)\n",
    "    \n",
    "    x = mortonExtractEvenBits(_a)\n",
    "    y = mortonExtractEvenBits(_a >> np.uint64(1))\n",
    "    \n",
    "    return (x, y)\n",
    "\n",
    "morton_code1 = mortonEncode2D(57772400, 12765000)\n",
    "assert morton_code1 == 1606428908008832, \"morton_code1 should be 1606428908008832\"\n",
    "print( morton_code1 )\n",
    "\n",
    "decode_morton_code1 = mortonDecode2D(1606428908008832)\n",
    "assert decode_morton_code1 == (57772400, 12765000), \"decode_morton_code1 should be (57772400, 12765000)\"\n",
    "print( decode_morton_code1 )"
   ]
  },
  {
   "cell_type": "markdown",
   "id": "f6aff63b-3c82-4557-b0b8-65b60fb83f44",
   "metadata": {},
   "source": [
    "Finally, we can compare the two implementations."
   ]
  },
  {
   "cell_type": "code",
   "execution_count": 95,
   "id": "508c916c-0e41-472f-ad2b-ee9cf499eb7f",
   "metadata": {},
   "outputs": [
    {
     "name": "stdout",
     "output_type": "stream",
     "text": [
      "0.0\n"
     ]
    }
   ],
   "source": [
    "morton_code1_3rd = z.interlace(57772400, 12765000, dims=2)\n",
    "morton_code1_own = mortonEncode2D(57772400, 12765000)\n",
    "\n",
    "print( morton_code1_3rd - morton_code1_own )"
   ]
  },
  {
   "cell_type": "markdown",
   "id": "cfdcf1e9-2d4b-4363-9ba1-280c2c421918",
   "metadata": {},
   "source": [
    "Now, we are putting the pieces together."
   ]
  },
  {
   "cell_type": "code",
   "execution_count": 96,
   "id": "16b48297-1612-4340-8b11-fe5575705b7d",
   "metadata": {},
   "outputs": [
    {
     "name": "stdout",
     "output_type": "stream",
     "text": [
      "Two positive floats: 664749436224642\n",
      "Delta to 3rd party library: -6.0\n",
      "One positive/one negative float: 231657429695220\n",
      "Delta to 3rd party library: 0.0\n",
      "Two negative floats: 171054631290070\n",
      "Delta to 3rd party library: 0.0\n",
      "One negative/one positive float floats: 769185334910861\n",
      "Delta to 3rd party library: -35.0\n"
     ]
    }
   ],
   "source": [
    "def calculateMortonFromTwoLatLonFloats(x, y):\n",
    "    _x = np.float32(x)\n",
    "    _y = np.float32(y)\n",
    "    # Cap floating point numbers to six decimal places.\n",
    "    x_int = np.uint32( np.round( (_x + np.float32(90.0) ), 6 ) * np.uint32(100000) )\n",
    "    y_int = np.uint32( np.round( (_y + np.float32(180.0) ), 6 ) * np.uint32(100000) )\n",
    "    value = mortonEncode2D(x_int, y_int)\n",
    "    return value\n",
    "\n",
    "p1 = (60.734398, 14.768745)\n",
    "morton_code1 = calculateMortonFromTwoLatLonFloats(p1[0], p1[1])\n",
    "assert morton_code1 == 664749436224642, \"morton_code1 should be 664749436224642\"\n",
    "print( \"Two positive floats: \" + str(morton_code1) )\n",
    "print( \"Delta to 3rd party library: \" + str(morton_code1 - morton_code1_f) )\n",
    "\n",
    "p2 = (38.969745, -77.201958)\n",
    "morton_code2 = calculateMortonFromTwoLatLonFloats(p2[0], p2[1])\n",
    "assert morton_code2 == 231657429695220, \"morton_code2 should be 231657429695220\"\n",
    "print( \"One positive/one negative float: \" + str(morton_code2) )\n",
    "print( \"Delta to 3rd party library: \" + str(morton_code2 - morton_code2_f) )\n",
    "\n",
    "p3 = (-34.619055, -58.364067)\n",
    "morton_code3 = calculateMortonFromTwoLatLonFloats(p3[0], p3[1])\n",
    "assert morton_code3 == 171054631290070, \"morton_code3 should be 171054631290070\"\n",
    "print( \"Two negative floats: \" + str(morton_code3) )\n",
    "print( \"Delta to 3rd party library: \" + str(morton_code3 - morton_code3_f) )\n",
    "\n",
    "p4 = (-33.956603, 150.949719)\n",
    "morton_code4 = calculateMortonFromTwoLatLonFloats(p4[0], p4[1])\n",
    "assert morton_code4 == 769185334910861, \"morton_code4 should be 769185334910861\"\n",
    "print( \"One negative/one positive float floats: \" + str(morton_code4) )\n",
    "print( \"Delta to 3rd party library: \" + str(morton_code4 - morton_code4_f) )"
   ]
  },
  {
   "cell_type": "markdown",
   "id": "b3f5ec89-43ae-4dd9-a3e2-f99410a1a511",
   "metadata": {},
   "source": [
    "Finally, we convert the Morton code back into two floating point numbers."
   ]
  },
  {
   "cell_type": "code",
   "execution_count": 97,
   "id": "6dc797e5-fce5-4f5d-bb11-5901add50503",
   "metadata": {},
   "outputs": [
    {
     "name": "stdout",
     "output_type": "stream",
     "text": [
      "60.734402 14.768730\n",
      "Delta: 0.000004 -0.000015\n",
      "38.969742 -77.201958\n",
      "Delta: -0.000003 0.000000\n",
      "-34.619061 -58.364071\n",
      "Delta: -0.000006 -0.000004\n",
      "-33.956612 150.949707\n",
      "Delta: -0.000009 -0.000012\n"
     ]
    }
   ],
   "source": [
    "import sys\n",
    "\n",
    "def calculateTwoLatLonFloatsFromMorton(a):\n",
    "    pair = mortonDecode2D(a)\n",
    "    _x = np.float32(pair[0] / np.float32(100000.0) - np.float32(90.0))\n",
    "    _y = np.float32(pair[1] / np.float32(100000.0) - np.float32(180.0))\n",
    "    return (_x, _y)\n",
    "\n",
    "eps = 0.00001\n",
    "decode_morton_code1 = calculateTwoLatLonFloatsFromMorton(morton_code1)\n",
    "print( \"{:.6f}\".format(decode_morton_code1[0]) + \" \" + \"{:.6f}\".format(decode_morton_code1[1]))\n",
    "print( \"Delta: \" + \"{:.6f}\".format(decode_morton_code1[0] - p1[0]) + \" \" + \"{:.6f}\".format(decode_morton_code1[1] - p1[1]))\n",
    "assert np.fabs(decode_morton_code1[0] - p1[0]) < eps , \"Delta for p1 after decoding too large\"\n",
    "\n",
    "decode_morton_code2 = calculateTwoLatLonFloatsFromMorton(morton_code2)\n",
    "print( \"{:.6f}\".format(decode_morton_code2[0]) + \" \" + \"{:.6f}\".format(decode_morton_code2[1]))\n",
    "print( \"Delta: \" + \"{:.6f}\".format(decode_morton_code2[0] - p2[0]) + \" \" + \"{:.6f}\".format(decode_morton_code2[1] - p2[1]))\n",
    "assert np.fabs(decode_morton_code2[0] - p2[0]) < eps , \"Delta for p2 after decoding too large\"\n",
    "\n",
    "decode_morton_code3 = calculateTwoLatLonFloatsFromMorton(morton_code3)\n",
    "print( \"{:.6f}\".format(decode_morton_code3[0]) + \" \" + \"{:.6f}\".format(decode_morton_code3[1]))\n",
    "print( \"Delta: \" + \"{:.6f}\".format(decode_morton_code3[0] - p3[0]) + \" \" + \"{:.6f}\".format(decode_morton_code3[1] - p3[1]))\n",
    "assert np.fabs(decode_morton_code3[0] - p3[0]) < eps , \"Delta for p3 after decoding too large\"\n",
    "\n",
    "decode_morton_code4 = calculateTwoLatLonFloatsFromMorton(morton_code4)\n",
    "print( \"{:.6f}\".format(decode_morton_code4[0]) + \" \" + \"{:.6f}\".format(decode_morton_code4[1]))\n",
    "print( \"Delta: \" + \"{:.6f}\".format(decode_morton_code4[0] - p4[0]) + \" \" + \"{:.6f}\".format(decode_morton_code4[1] - p4[1]))\n",
    "assert np.fabs(decode_morton_code4[0] - p4[0]) < eps , \"Delta for p4 after decoding too large\""
   ]
  },
  {
   "cell_type": "markdown",
   "id": "4b954f25-8b79-40be-9ce4-606bc1a7ca44",
   "metadata": {},
   "source": [
    "### 2. Processing Multi-Dimensional Automotive Data"
   ]
  },
  {
   "cell_type": "markdown",
   "id": "200d64b0-9ae0-4056-81ab-6977cfa465f4",
   "metadata": {},
   "source": [
    "Now, we have seen how to compute Morton codes from two-dimensional, floating point data including potential rounding errors that are introduced by the conversion.\n",
    "In this section, we will look into how to correlate Morton codes from time-series data to a maneuver in the multi-dimensional data space. For our experiments, we will use a dataset that contains an emergency braking maneuver.\n",
    "First, we analyze how the data is organized and we see that we have columns such as `lat`, `lon`, and `speed`. As a first step, we simply plot the position of the vehicle using its speed information to color its position in the scatter plot."
   ]
  },
  {
   "cell_type": "code",
   "execution_count": 98,
   "id": "cfbae315-4c74-4d19-949a-30a0db1c72c7",
   "metadata": {},
   "outputs": [
    {
     "name": "stdout",
     "output_type": "stream",
     "text": [
      "Column headers: ['sampleTimeStamp.seconds', 'sampleTimeStamp.microseconds', 'lat', 'lon', 'speed', 'accel_x', 'accel_y', 'accel_z']\n"
     ]
    },
    {
     "data": {
      "image/png": "[encoded data removed]",
      "text/plain": [
       "<Figure size 640x480 with 1 Axes>"
      ]
     },
     "metadata": {},
     "output_type": "display_data"
    }
   ],
   "source": [
    "import pandas as pd\n",
    "import matplotlib.pyplot as plt\n",
    "\n",
    "# First, we read the CSV file.\n",
    "df = pd.read_csv('emergency_braking.csv', sep=';')\n",
    "\n",
    "# Next, we print the column headers to know what we have access to.\n",
    "cols = df.columns.values.tolist()\n",
    "print( \"Column headers: \" + str(cols) )\n",
    "\n",
    "# Plot the position of the vehicle using its speed to color.\n",
    "plt.scatter(df['lat'], df['lon'], c=df['speed'])\n",
    "plt.show()"
   ]
  },
  {
   "cell_type": "markdown",
   "id": "931d9120-0f28-40d8-a9ec-a911f59607ef",
   "metadata": {},
   "source": [
    "Next, we plot the various accelerations over time."
   ]
  },
  {
   "cell_type": "code",
   "execution_count": 99,
   "id": "be9b82e6-6c27-4c7f-8bfd-7f115bff5c85",
   "metadata": {},
   "outputs": [
    {
     "data": {
      "image/png": "[encoded data removed]",
      "text/plain": [
       "<Figure size 640x480 with 1 Axes>"
      ]
     },
     "metadata": {},
     "output_type": "display_data"
    }
   ],
   "source": [
    "# Plot the accelerations.\n",
    "plt.plot(df['sampleTimeStamp.seconds'], df['accel_x'])\n",
    "plt.plot(df['sampleTimeStamp.seconds'], df['accel_y'])\n",
    "plt.plot(df['sampleTimeStamp.seconds'], df['accel_z'])\n",
    "plt.show()"
   ]
  },
  {
   "cell_type": "markdown",
   "id": "21848611-c965-4fcd-9c73-ec3092716a3c",
   "metadata": {},
   "source": [
    "The plots look unexpectedly _jumpy_. The reason behind it is that we chose the colum `sampleTimeStamp.seconds` that is complemented by column `sampleTimeStamp.microseconds` to reflect the actual sampling rate. Hence, we combine both columns into one new column that we name `timestamp` to reflect the correct resolution of time."
   ]
  },
  {
   "cell_type": "code",
   "execution_count": 100,
   "id": "23429483-9406-4342-9f18-ced33150bbb8",
   "metadata": {},
   "outputs": [
    {
     "data": {
      "image/png": "[encoded data removed]",
      "text/plain": [
       "<Figure size 640x480 with 1 Axes>"
      ]
     },
     "metadata": {},
     "output_type": "display_data"
    }
   ],
   "source": [
    "# Plot the accelerations but this time using the correct resolution of time.\n",
    "df['timestamp'] = df['sampleTimeStamp.seconds'] * 1000000 + df['sampleTimeStamp.microseconds']\n",
    "plt.plot(df['timestamp'], df['accel_x'])\n",
    "plt.plot(df['timestamp'], df['accel_y'])\n",
    "plt.plot(df['timestamp'], df['accel_z'])\n",
    "plt.show()"
   ]
  },
  {
   "cell_type": "markdown",
   "id": "9aea1d17-73e0-4087-90a2-11e7e2b244a1",
   "metadata": {},
   "source": [
    "We are interested to identify when the vehicle was starting the emergency maneuver. Intuitively, this happens when the longitudinal acceleration is starting to peak. First, we find this point in time with a naïve approach by looking at the data sample by sample and once it is exceeding a certain threshold, we assume to have found the moment when the maneuver started."
   ]
  },
  {
   "cell_type": "code",
   "execution_count": 101,
   "id": "5ffc455e-8c68-4976-aac7-0e53e4031762",
   "metadata": {},
   "outputs": [
    {
     "name": "stdout",
     "output_type": "stream",
     "text": [
      "Maneuver at 90066564446148.0\n",
      "Maneuver at 90066564495895.0\n",
      "Maneuver at 90066564545893.0\n",
      "Maneuver at 90066564595904.0\n",
      "Maneuver at 90066564645871.0\n",
      "Maneuver at 90066564695876.0\n",
      "Maneuver at 90066564745892.0\n",
      "Maneuver at 90066564795926.0\n",
      "Length of maneuver: 8\n"
     ]
    }
   ],
   "source": [
    "threshold = 5.4\n",
    "times_for_maneuver = []\n",
    "for _, row in df.iterrows():\n",
    "    # The following line has been commented out for readability purposes.\n",
    "    #print( str(row['timestamp']) + \": \"+ str(row['accel_x']) )\n",
    "    if row['accel_x'] > threshold:\n",
    "        print( \"Maneuver at \" + str(row['timestamp']) )\n",
    "        times_for_maneuver.append(row['timestamp'])\n",
    "print( \"Length of maneuver: \" + str(len(times_for_maneuver)) )"
   ]
  },
  {
   "cell_type": "markdown",
   "id": "81921c85-ea55-4bac-a65b-9fea4e79c895",
   "metadata": {},
   "source": [
    "For emergency braking, the maneuver can be easily identified by sorting all data by longitudinal accelerations as key pointing to the respective timepoints. However, this approach would only work as long as we only use one dimension from a multi-dimensional dataspace. Once we use more dimensions, we need a different strategy and here, the concept of space-filling curves is useful."
   ]
  },
  {
   "cell_type": "markdown",
   "id": "2e76e870-0c60-4d3f-b778-f7f2a62f0c8a",
   "metadata": {},
   "source": [
    "Using our previous approach, the maneuver was found as expected but for an expensive computational operation: `O(n)`. In particular, this is a disadvantage in case the problem size grows, ie., when more data would need to be processed. In addition, when we fine-tune the threshold, we would have to re-run the detector again for the same computational effort. So, we are interested to find a better approach that is ideally agnostic from the amount of data but is similar to our intuitive approach when we \"just looked\" at the peaks of the data.\n",
    "\n",
    "The problem, though, is that we want to analyze time-series data, which can be arbitrarily large and that we may need to analyze multiple dimensions simultaneously. Now, space-filling curves come into play when we try a better approach to spot interesting events in time-series data. When analyzing time-series data using the ordering criterion time for queries, data look-ups are simple and fast for queries such as: \"How did the data sample look like at time X?\" or \"How many data samples do we have between time points X and Y?\".\n",
    "\n",
    "Yet, such queries are usually less relevant for data analysts who are interested in certain properties or conditions taking place in the multi-dimensional data space, where, however, the look-up is computationally expensive for growing amounts of data. Hence, we are interested in a computationally efficient approach to process multi-dimensional data samples.\n",
    "\n",
    "Now, we are exploiting space-filling curves for this purpose to encode multi-dimensional data samples in a way that allows us to conduct a quick look-up of _relevant_ data.\n",
    "\n",
    "Firstly, we define conversion functions to map two-dimensional data like longitudinal and lateral accelerations into single-dimensional Morton values including the corresponding inverse operations:"
   ]
  },
  {
   "cell_type": "code",
   "execution_count": 102,
   "id": "7a47a117-92ef-4141-9a1e-9c7e97ec4559",
   "metadata": {},
   "outputs": [],
   "source": [
    "def calculateMortonFromXYAccelerationFloats(x, y):\n",
    "    _x = np.float32(x)\n",
    "    _y = np.float32(y)\n",
    "    # Cap floating point numbers to six decimal places.\n",
    "    x_int = np.uint32( np.round( (_x + np.float32(10.0) ), 6 ) * np.uint32(100) )\n",
    "    y_int = np.uint32( np.round( (_y + np.float32(10.0) ), 6 ) * np.uint32(100) )\n",
    "    value = mortonEncode2D(x_int, y_int)\n",
    "    return value\n",
    "\n",
    "def calculateXYAccelerationFloatsFromMorton(a):\n",
    "    pair = mortonDecode2D(a)\n",
    "    _x = np.float32(pair[0] / np.float32(100.0) - np.float32(10.0))\n",
    "    _y = np.float32(pair[1] / np.float32(100.0) - np.float32(10.0))\n",
    "    return (_x, _y)"
   ]
  },
  {
   "cell_type": "markdown",
   "id": "5a11e570-5e0f-4cdb-9ad0-8ae42f3688ba",
   "metadata": {},
   "source": [
    "As we noticed that the emergency braking manifests clearly along the longitudinal acceleration, we define the consant `y = 0`:"
   ]
  },
  {
   "cell_type": "code",
   "execution_count": 103,
   "id": "11d467a0-dd1f-46bb-a3c0-d0d471eecc8c",
   "metadata": {},
   "outputs": [
    {
     "name": "stdout",
     "output_type": "stream",
     "text": [
      "90066554895574.0: (-0.8444923,0) --> 1042821\n",
      "90066554945599.0: (-0.668745,0) --> 1043601\n",
      "90066554995606.0: (-0.9835685,0) --> 1042577\n",
      "90066555045596.0: (-0.7277404,0) --> 1042901\n",
      "90066555095560.0: (-0.8486654,0) --> 1042821\n",
      "90066555145602.0: (-0.6911783,0) --> 1043588\n",
      "90066555195612.0: (-0.8817868,0) --> 1042645\n",
      "90066555245543.0: (-0.6518968,0) --> 1043604\n",
      "90066555295612.0: (-0.9034342,0) --> 1042641\n",
      "90066555345551.0: (-0.7057287,0) --> 1043585\n",
      "90066555395565.0: (-0.9611551,0) --> 1042581\n",
      "90066555445902.0: (-0.8725309,0) --> 1042816\n",
      "90066555495627.0: (-1.036656,0) --> 1042560\n",
      "90066555545615.0: (-1.130846,0) --> 1031572\n",
      "90066555595574.0: (-1.241084,0) --> 1031365\n",
      "90066555645582.0: (-1.276467,0) --> 1031360\n",
      "90066555695577.0: (-1.300929,0) --> 1031313\n",
      "90066555745609.0: (-1.315992,0) --> 1031312\n",
      "90066555795654.0: (-1.361566,0) --> 1030613\n",
      "90066555845572.0: (-1.345597,0) --> 1031297\n",
      "90066555895608.0: (-1.38821,0) --> 1030609\n",
      "90066555945581.0: (-1.393638,0) --> 1030608\n",
      "90066555995630.0: (-1.494956,0) --> 1030532\n",
      "90066556045571.0: (-1.597419,0) --> 1030336\n",
      "90066556095667.0: (-1.749776,0) --> 1027521\n",
      "90066556145646.0: (-1.822001,0) --> 1027457\n",
      "90066556195680.0: (-2.019782,0) --> 1026516\n",
      "90066556245666.0: (-2.010019,0) --> 1026516\n",
      "90066556295657.0: (-2.12956,0) --> 1026437\n",
      "90066556345653.0: (-2.025778,0) --> 1026513\n",
      "90066556395615.0: (-2.198004,0) --> 1026256\n",
      "90066556445889.0: (-2.100999,0) --> 1026449\n",
      "90066556495650.0: (-2.007658,0) --> 1026517\n",
      "90066556545590.0: (-2.094607,0) --> 1026452\n",
      "90066556595599.0: (-1.837279,0) --> 1027456\n",
      "90066556645618.0: (-1.844005,0) --> 1027285\n",
      "90066556695617.0: (-1.840613,0) --> 1027285\n",
      "90066556745633.0: (-1.78455,0) --> 1027473\n",
      "90066556795630.0: (-1.643375,0) --> 1030277\n",
      "90066556845604.0: (-1.709916,0) --> 1027537\n",
      "90066556895618.0: (-1.749827,0) --> 1027521\n",
      "90066556945624.0: (-1.703734,0) --> 1027537\n",
      "90066556995649.0: (-1.844294,0) --> 1027285\n",
      "90066557045615.0: (-1.694315,0) --> 1027540\n",
      "90066557095624.0: (-1.869788,0) --> 1027281\n",
      "90066557145672.0: (-1.808071,0) --> 1027461\n",
      "90066557195669.0: (-1.739701,0) --> 1027524\n",
      "90066557245609.0: (-1.776842,0) --> 1027476\n",
      "90066557295665.0: (-1.877699,0) --> 1027280\n",
      "90066557345658.0: (-1.888305,0) --> 1027269\n",
      "90066557395646.0: (-1.967101,0) --> 1027205\n",
      "90066557445984.0: (-1.977456,0) --> 1027204\n",
      "90066557495658.0: (-1.824721,0) --> 1027457\n",
      "90066557545670.0: (-2.050314,0) --> 1026500\n",
      "90066557595697.0: (-1.912153,0) --> 1027264\n",
      "90066557645742.0: (-2.092249,0) --> 1026452\n",
      "90066557695668.0: (-1.986887,0) --> 1027201\n",
      "90066557745659.0: (-2.190212,0) --> 1026256\n",
      "90066557795715.0: (-2.177106,0) --> 1026260\n",
      "90066557845633.0: (-1.947315,0) --> 1027217\n",
      "90066557895650.0: (-1.570878,0) --> 1030340\n",
      "90066557945660.0: (-2.059803,0) --> 1026500\n",
      "90066557995695.0: (-1.907451,0) --> 1027265\n",
      "90066558045655.0: (-1.992702,0) --> 1027200\n",
      "90066558095642.0: (-2.114617,0) --> 1026448\n",
      "90066558145694.0: (-2.175775,0) --> 1026260\n",
      "90066558195713.0: (-2.299844,0) --> 1026180\n",
      "90066558245689.0: (-2.264194,0) --> 1026193\n",
      "90066558295681.0: (-2.162713,0) --> 1026261\n",
      "90066558345684.0: (-2.414883,0) --> 982420\n",
      "90066558395689.0: (-2.237096,0) --> 1026240\n",
      "90066558445990.0: (-1.933687,0) --> 1027220\n",
      "90066558495751.0: (-2.109204,0) --> 1026449\n",
      "90066558545669.0: (-2.041632,0) --> 1026501\n",
      "90066558595715.0: (-2.207686,0) --> 1026245\n",
      "90066558645692.0: (-1.981854,0) --> 1027201\n",
      "90066558695750.0: (-1.857674,0) --> 1027284\n",
      "90066558745714.0: (-1.994612,0) --> 1027200\n",
      "90066558795755.0: (-1.89055,0) --> 1027268\n",
      "90066558845705.0: (-2.070597,0) --> 1026496\n",
      "90066558895720.0: (-1.933442,0) --> 1027220\n",
      "90066558945687.0: (-2.090726,0) --> 1026452\n",
      "90066558995745.0: (-1.770826,0) --> 1027476\n",
      "90066559045678.0: (-1.832576,0) --> 1027456\n",
      "90066559095685.0: (-1.816264,0) --> 1027460\n",
      "90066559145749.0: (-1.882634,0) --> 1027269\n",
      "90066559195724.0: (-1.589556,0) --> 1030337\n",
      "90066559245693.0: (-1.458568,0) --> 1030548\n",
      "90066559295723.0: (-1.50659,0) --> 1030529\n",
      "90066559345682.0: (-1.32992,0) --> 1031301\n",
      "90066559395698.0: (-0.8056066,0) --> 1042837\n",
      "90066559446061.0: (-0.9268732,0) --> 1042629\n",
      "90066559495676.0: (-0.9697844,0) --> 1042581\n",
      "90066559545722.0: (-0.8339149,0) --> 1042832\n",
      "90066559595711.0: (-0.9396116,0) --> 1042628\n",
      "90066559645753.0: (-1.091545,0) --> 1031620\n",
      "90066559695758.0: (-0.8750178,0) --> 1042816\n",
      "90066559745695.0: (-0.8021161,0) --> 1042837\n",
      "90066559795769.0: (-0.9052757,0) --> 1042641\n",
      "90066559845715.0: (-0.9046215,0) --> 1042641\n",
      "90066559895715.0: (-0.7338373,0) --> 1042900\n",
      "90066559945767.0: (-0.9421503,0) --> 1042625\n",
      "90066559995772.0: (-0.6405057,0) --> 1043605\n",
      "90066560045755.0: (-0.8955051,0) --> 1042644\n",
      "90066560095748.0: (-0.4741646,0) --> 1043904\n",
      "90066560145766.0: (-0.4869518,0) --> 1043861\n",
      "90066560195761.0: (-0.807313,0) --> 1042837\n",
      "90066560245749.0: (-0.6785382,0) --> 1043600\n",
      "90066560295738.0: (-0.7106909,0) --> 1043584\n",
      "90066560345716.0: (-0.693607,0) --> 1043588\n",
      "90066560395727.0: (-0.6681007,0) --> 1043601\n",
      "90066560446065.0: (-0.6546802,0) --> 1043604\n",
      "90066560495768.0: (-0.588991,0) --> 1043665\n",
      "90066560545770.0: (-0.7722476,0) --> 1042884\n",
      "90066560595715.0: (-0.82306,0) --> 1042833\n",
      "90066560645741.0: (-0.6902149,0) --> 1043588\n",
      "90066560695757.0: (-0.7341855,0) --> 1042900\n",
      "90066560745769.0: (-0.9392875,0) --> 1042628\n",
      "90066560795791.0: (-0.7697855,0) --> 1042885\n",
      "90066560845775.0: (-1.180896,0) --> 1031553\n",
      "90066560895761.0: (-0.6402035,0) --> 1043605\n",
      "90066560945749.0: (-0.7733266,0) --> 1042884\n",
      "90066560995781.0: (-0.7944298,0) --> 1042880\n",
      "90066561045743.0: (-0.9086934,0) --> 1042641\n",
      "90066561095736.0: (-0.6736128,0) --> 1043600\n",
      "90066561145816.0: (-0.9142693,0) --> 1042640\n",
      "90066561195802.0: (-0.9942642,0) --> 1042576\n",
      "90066561245788.0: (-0.6786137,0) --> 1043600\n",
      "90066561295787.0: (-0.6814017,0) --> 1043589\n",
      "90066561345840.0: (-0.7629104,0) --> 1042885\n",
      "90066561395763.0: (-1.184417,0) --> 1031553\n",
      "90066561446128.0: (-0.8023718,0) --> 1042837\n",
      "90066561495766.0: (-0.9366568,0) --> 1042628\n",
      "90066561545766.0: (-1.007683,0) --> 1042565\n",
      "90066561595771.0: (-0.8419622,0) --> 1042821\n",
      "90066561645765.0: (-0.7876744,0) --> 1042881\n",
      "90066561695754.0: (-0.8659795,0) --> 1042817\n",
      "90066561745775.0: (-0.9256217,0) --> 1042629\n",
      "90066561795865.0: (-0.9985169,0) --> 1042576\n",
      "90066561845755.0: (-0.7845778,0) --> 1042881\n",
      "90066561895771.0: (-0.855639,0) --> 1042820\n",
      "90066561945795.0: (-0.940336,0) --> 1042625\n",
      "90066561995844.0: (-0.8739558,0) --> 1042816\n",
      "90066562045767.0: (-0.7384994,0) --> 1042900\n",
      "90066562095798.0: (-0.791798,0) --> 1042880\n",
      "90066562145841.0: (-0.662474,0) --> 1043601\n",
      "90066562195840.0: (-0.8418716,0) --> 1042821\n",
      "90066562245774.0: (-0.7767482,0) --> 1042884\n",
      "90066562295805.0: (-0.8207978,0) --> 1042833\n",
      "90066562345804.0: (-0.8311242,0) --> 1042832\n",
      "90066562395801.0: (-0.6844991,0) --> 1043589\n",
      "90066562446101.0: (-0.6457585,0) --> 1043605\n",
      "90066562495854.0: (-0.5784141,0) --> 1043668\n",
      "90066562545829.0: (-0.5267364,0) --> 1043845\n",
      "90066562595879.0: (-0.5172589,0) --> 1043856\n",
      "90066562645849.0: (-0.6248381,0) --> 1043649\n",
      "90066562695852.0: (-0.5767903,0) --> 1043668\n",
      "90066562745832.0: (-0.3795226,0) --> 1046660\n",
      "90066562795846.0: (-0.4055339,0) --> 1043925\n",
      "90066562845780.0: (-0.5792766,0) --> 1043668\n",
      "90066562895807.0: (-0.6807823,0) --> 1043589\n",
      "90066562945798.0: (-0.7769775,0) --> 1042884\n",
      "90066562995850.0: (-0.6006263,0) --> 1043653\n",
      "90066563045853.0: (-0.4752606,0) --> 1043904\n",
      "90066563095831.0: (-0.6113067,0) --> 1043652\n",
      "90066563145856.0: (-0.6645511,0) --> 1043601\n",
      "90066563195880.0: (-0.4785917,0) --> 1043904\n",
      "90066563245792.0: (-0.5783889,0) --> 1043668\n",
      "90066563295849.0: (-0.5262114,0) --> 1043845\n",
      "90066563345872.0: (-0.5710452,0) --> 1043668\n",
      "90066563395856.0: (-0.432624,0) --> 1043920\n",
      "90066563446174.0: (-0.09284098,0) --> 1046996\n",
      "90066563495837.0: (0.8942552,0) --> 1751169\n",
      "90066563545848.0: (1.507012,0) --> 1752532\n",
      "90066563595864.0: (3.567866,0) --> 1816784\n",
      "90066563645812.0: (3.746455,0) --> 1817044\n",
      "90066563695842.0: (4.665256,0) --> 1830340\n",
      "90066563745848.0: (4.685347,0) --> 1830352\n",
      "90066563795904.0: (4.875669,0) --> 1833173\n",
      "90066563845854.0: (5.018488,0) --> 1833425\n",
      "90066563895874.0: (4.478369,0) --> 1830037\n",
      "90066563945885.0: (4.850178,0) --> 1833169\n",
      "90066563995869.0: (4.83911,0) --> 1833157\n",
      "90066564045860.0: (5.386592,0) --> 2009220\n",
      "90066564095856.0: (5.24577,0) --> 1834384\n",
      "90066564145892.0: (5.156896,0) --> 1834181\n",
      "90066564195915.0: (5.0278,0) --> 1833428\n",
      "90066564245838.0: (5.074139,0) --> 1834117\n",
      "90066564295870.0: (5.281409,0) --> 1834432\n",
      "90066564345876.0: (5.197826,0) --> 1834197\n",
      "90066564395854.0: (5.092175,0) --> 1834129\n",
      "90066564446148.0: (5.468379,0) --> 2009284\n",
      "90066564495895.0: (5.402384,0) --> 2009232\n",
      "90066564545893.0: (5.629744,0) --> 2009540\n",
      "90066564595904.0: (5.509354,0) --> 2009300\n",
      "90066564645871.0: (5.489079,0) --> 2009296\n",
      "90066564695876.0: (5.533968,0) --> 2009473\n",
      "90066564745892.0: (5.549309,0) --> 2009476\n",
      "90066564795926.0: (5.488881,0) --> 2009296\n",
      "90066564845908.0: (5.229799,0) --> 1834372\n",
      "90066564895878.0: (5.148145,0) --> 1834180\n",
      "90066564945837.0: (4.822742,0) --> 1833156\n",
      "90066564995874.0: (3.854318,0) --> 1817793\n",
      "90066565045938.0: (3.652316,0) --> 1816977\n",
      "90066565095906.0: (3.18092,0) --> 1813652\n",
      "90066565145933.0: (3.294237,0) --> 1813889\n",
      "90066565195909.0: (3.076751,0) --> 1812933\n",
      "90066565245875.0: (3.168933,0) --> 1813648\n",
      "90066565295959.0: (2.941291,0) --> 1812692\n",
      "90066565345895.0: (3.08031,0) --> 1812944\n",
      "90066565395874.0: (2.879175,0) --> 1812629\n",
      "90066565446189.0: (2.914211,0) --> 1812677\n",
      "90066565495974.0: (3.027586,0) --> 1812884\n",
      "90066565545883.0: (2.803405,0) --> 1812608\n",
      "90066565595870.0: (3.000466,0) --> 1812880\n",
      "90066565645931.0: (2.747073,0) --> 1768900\n",
      "90066565695929.0: (2.975749,0) --> 1812865\n",
      "90066565745930.0: (2.733266,0) --> 1768897\n",
      "90066565795939.0: (2.937245,0) --> 1812689\n",
      "90066565845935.0: (2.71976,0) --> 1768853\n",
      "90066565895939.0: (2.93104,0) --> 1812689\n",
      "90066565945934.0: (2.695581,0) --> 1768849\n",
      "90066565995976.0: (2.975365,0) --> 1812865\n",
      "90066566045935.0: (3.466287,0) --> 1816708\n",
      "90066566095921.0: (1.510902,0) --> 1752533\n",
      "90066566145992.0: (-0.1588292,0) --> 1046976\n",
      "90066566195990.0: (-0.9512374,0) --> 1042624\n",
      "90066566245910.0: (-0.9870145,0) --> 1042577\n",
      "90066566295984.0: (-1.379021,0) --> 1030612\n",
      "90066566345982.0: (-0.47879,0) --> 1043904\n",
      "90066566395973.0: (-0.6223483,0) --> 1043649\n",
      "90066566446247.0: (-0.5667167,0) --> 1043669\n",
      "90066566495984.0: (-0.8036547,0) --> 1042837\n",
      "90066566545926.0: (-0.9259987,0) --> 1042629\n",
      "90066566595938.0: (-0.8160298,0) --> 1042836\n",
      "90066566645943.0: (-0.8552305,0) --> 1042820\n",
      "Processed 236 rows.\n"
     ]
    }
   ],
   "source": [
    "counter = 0\n",
    "y = 0\n",
    "for _, row in df.iterrows():\n",
    "    morton = calculateMortonFromXYAccelerationFloats(row['accel_x'], y)\n",
    "    print( str(row['timestamp']) + \": (\" + str(row['accel_x']) + \",0) --> \" + str(morton) )\n",
    "    counter = counter + 1\n",
    "print( \"Processed \" + str(counter) + \" rows.\" )"
   ]
  },
  {
   "cell_type": "markdown",
   "id": "586c82c8-3595-4d45-8354-c4d3ca08bfb9",
   "metadata": {},
   "source": [
    "Simply calcuating the Morton codes for the given tuples for floating point values is pointless unless we store the data in a new tabluar representation. In the following, we compute the Morton codes for the accelerations in X/Y directions to obtain a single-dimensional representation of the data values."
   ]
  },
  {
   "cell_type": "code",
   "execution_count": 104,
   "id": "301dad1a-b143-4f9c-9842-32b8afe2b69f",
   "metadata": {},
   "outputs": [
    {
     "name": "stdout",
     "output_type": "stream",
     "text": [
      "      morton     timestamp\n",
      "0    1042821  9.006655e+13\n",
      "1    1043601  9.006655e+13\n",
      "2    1042577  9.006655e+13\n",
      "3    1042901  9.006656e+13\n",
      "4    1042821  9.006656e+13\n",
      "..       ...           ...\n",
      "231  1043669  9.006657e+13\n",
      "232  1042837  9.006657e+13\n",
      "233  1042629  9.006657e+13\n",
      "234  1042836  9.006657e+13\n",
      "235  1042820  9.006657e+13\n",
      "\n",
      "[236 rows x 2 columns]\n"
     ]
    }
   ],
   "source": [
    "lst = []\n",
    "y = 0\n",
    "for _, row in df.iterrows():\n",
    "    morton = calculateMortonFromXYAccelerationFloats(row['accel_x'], y)\n",
    "    lst.append({'morton': morton, 'timestamp': row['timestamp']})\n",
    "\n",
    "df2 = pd.DataFrame(lst, columns=['morton', 'timestamp'])\n",
    "print( df2 )"
   ]
  },
  {
   "cell_type": "markdown",
   "id": "d4c01047-b3ae-45b5-9ce8-4d0fbd755729",
   "metadata": {},
   "source": [
    "Let's look at the data how it is stored in the new table. As we deal with single-dimensional data, we use a stripe plot for clarity."
   ]
  },
  {
   "cell_type": "code",
   "execution_count": 105,
   "id": "3773b370-9c2f-4cbd-aee6-baef3af74c99",
   "metadata": {},
   "outputs": [
    {
     "data": {
      "image/png": "[encoded data removed]",
      "text/plain": [
       "<Figure size 640x480 with 1 Axes>"
      ]
     },
     "metadata": {},
     "output_type": "display_data"
    }
   ],
   "source": [
    "from matplotlib import pyplot as plt\n",
    "\n",
    "plt.figure()\n",
    "data = df2['morton']\n",
    "plt.ylim( (0,1) )\n",
    "plt.eventplot(data, orientation='horizontal', colors='b', lineoffsets=0.5)\n",
    "plt.show()"
   ]
  },
  {
   "cell_type": "markdown",
   "id": "dae0edb4-aaa4-4940-a737-c303ad38d650",
   "metadata": {},
   "source": [
    "So, the question is how to interpret the new data that we generated using the Morton computations. Let's iterate over all new rows to split the tuples `(Morton value, timestamp)` such that those Morton values, which do not belong to the time points when the vehicle exhibited an emergency braking maneuver (that we calculated already before using a computationally expensive approach), are in one group (`group_A`) and the others in another group (`group_B`). Then, we can color both groups differently for clarity in the plot. "
   ]
  },
  {
   "cell_type": "code",
   "execution_count": 106,
   "id": "164c60b7-ab9e-4be0-870c-34e012ad5175",
   "metadata": {},
   "outputs": [
    {
     "data": {
      "image/png": "[encoded data removed]",
      "text/plain": [
       "<Figure size 640x480 with 1 Axes>"
      ]
     },
     "metadata": {},
     "output_type": "display_data"
    }
   ],
   "source": [
    "group_A = []\n",
    "group_B = []\n",
    "for _, row in df2.iterrows():\n",
    "    morton = row['morton']\n",
    "    timestamp = row['timestamp']\n",
    "    if timestamp in times_for_maneuver:\n",
    "        group_A.append(morton)\n",
    "    else:\n",
    "        group_B.append(morton)\n",
    "\n",
    "plt.figure()\n",
    "data = [group_A, group_B]\n",
    "data_colors = ['red', 'lightgray']\n",
    "plt.ylim( (0,1) )\n",
    "plt.eventplot(data, orientation='horizontal', colors=data_colors, lineoffsets=[0.5, 0.5])\n",
    "plt.show()"
   ]
  },
  {
   "cell_type": "markdown",
   "id": "5391d089-8b16-4a5d-b9b1-43a75bc83d98",
   "metadata": {},
   "source": [
    "It seems that the emergency braking maneuver of interest is gathering in a certain spectrum of our single-dimensional representation; let's zoom in:"
   ]
  },
  {
   "cell_type": "code",
   "execution_count": 107,
   "id": "f3b32f55-55eb-4c71-b81c-a81567273c5b",
   "metadata": {},
   "outputs": [
    {
     "data": {
      "image/png": "[encoded data removed]",
      "text/plain": [
       "<Figure size 640x480 with 1 Axes>"
      ]
     },
     "metadata": {},
     "output_type": "display_data"
    }
   ],
   "source": [
    "group_A = []\n",
    "group_B = []\n",
    "for _, row in df2.iterrows():\n",
    "    morton = row['morton']\n",
    "    timestamp = row['timestamp']\n",
    "    if timestamp in times_for_maneuver:\n",
    "        group_A.append(morton)\n",
    "    else:\n",
    "        group_B.append(morton)\n",
    "\n",
    "plt.figure()\n",
    "data = [group_A, group_B]\n",
    "data_colors = ['red', 'lightgray']\n",
    "# Zoom in around 2.009e6.\n",
    "plt.xlim( (2.00922e6,2.0099e6) )\n",
    "plt.ylim( (0,1) )\n",
    "plt.eventplot(data, orientation='horizontal', colors=data_colors, lineoffsets=[0.5, 0.5])\n",
    "plt.show()"
   ]
  },
  {
   "cell_type": "markdown",
   "id": "cdbe543a-d84d-4c70-9eb9-b9bb1b0a9e6d",
   "metadata": {},
   "source": [
    "Actually, we can exploit this accumulation when we sort our tabular representation of tuples `(Morton value, timestamp)` by increasing Morton values:"
   ]
  },
  {
   "cell_type": "code",
   "execution_count": 108,
   "id": "67f6a239-a900-46d1-bf45-bdb14c9ff1fd",
   "metadata": {},
   "outputs": [
    {
     "name": "stdout",
     "output_type": "stream",
     "text": [
      "      morton     timestamp\n",
      "69    982420  9.006656e+13\n",
      "66   1026180  9.006656e+13\n",
      "67   1026193  9.006656e+13\n",
      "70   1026240  9.006656e+13\n",
      "74   1026245  9.006656e+13\n",
      "..       ...           ...\n",
      "195  2009296  9.006656e+13\n",
      "194  2009300  9.006656e+13\n",
      "196  2009473  9.006656e+13\n",
      "197  2009476  9.006656e+13\n",
      "193  2009540  9.006656e+13\n",
      "\n",
      "[236 rows x 2 columns]\n"
     ]
    }
   ],
   "source": [
    "df2 = df2.sort_values(by=['morton'])\n",
    "print( df2 )"
   ]
  },
  {
   "cell_type": "markdown",
   "id": "5653d297-8894-4c56-9f3e-21c8efe11bdf",
   "metadata": {},
   "source": [
    "Now, we can exploit our knowledge that the emergency braking maneuver accumulates around the Morton values between 2.00922e6 and 2.0099e6 and hence, we can simply filter by keys within this range:"
   ]
  },
  {
   "cell_type": "code",
   "execution_count": 109,
   "id": "8ff702dc-da9a-4da6-bfd8-09958fd41276",
   "metadata": {},
   "outputs": [
    {
     "name": "stdout",
     "output_type": "stream",
     "text": [
      "Length of maneuver: 7, entries: [2009232, 2009284, 2009296, 2009300, 2009473, 2009476, 2009540]\n"
     ]
    }
   ],
   "source": [
    "dict_of_morton_to_timestamps = dict(zip(df2.morton, df2.timestamp))\n",
    "matches = list(filter( lambda k: k > 2.00922e6 and k < 2.0099e6, dict_of_morton_to_timestamps.keys()) )\n",
    "print( \"Length of maneuver: \" + str(len(matches)) + \", entries: \" + str(matches))"
   ]
  },
  {
   "cell_type": "markdown",
   "id": "1ccff647-0e44-4a8b-8525-c77e493f2250",
   "metadata": {},
   "source": [
    "Please note that we have 7 entries even though the length of the maneuver was identified as 8 using the brute-force approach before. The reason is that the Morton value `2009232` has been assigned twice but is only listed once in the list."
   ]
  },
  {
   "cell_type": "code",
   "execution_count": 111,
   "id": "d98f8222-3e54-433c-a77d-3014b25ab5a4",
   "metadata": {},
   "outputs": [
    {
     "name": "stdout",
     "output_type": "stream",
     "text": [
      "Length of maneuver: 8, entries: [90066564446148.0, 90066564495895.0, 90066564545893.0, 90066564595904.0, 90066564645871.0, 90066564695876.0, 90066564745892.0, 90066564795926.0]\n"
     ]
    }
   ],
   "source": [
    "from collections import defaultdict\n",
    "from itertools import chain\n",
    "\n",
    "# The standard dictionary in Python does not allow duplicated keys and hence, we use the defaultdict based on list.\n",
    "defaultdict_of_morton_to_timestamps = defaultdict(list)\n",
    "for k, v in zip(df2.morton, df2.timestamp):\n",
    "    defaultdict_of_morton_to_timestamps[k].append(v)\n",
    "\n",
    "# Filter the keys between the lower and upper limit.\n",
    "matches = list(filter( lambda k: k > 2.00922e6 and k < 2.0099e6, defaultdict_of_morton_to_timestamps.keys()) )\n",
    "\n",
    "# Finally, we need to \"flatten\" the matches to reduce the set of duplicated values for some keys:\n",
    "_timepoints = []\n",
    "for e in matches:\n",
    "    _timepoints.append(defaultdict_of_morton_to_timestamps[e])\n",
    "timepoints_for_maneuver_morton_setting_y_to_0 = sorted(list(chain.from_iterable(_timepoints)))\n",
    "print( \"Length of maneuver: \" + str(len(timepoints_for_maneuver_morton_setting_y_to_0)) + \", entries: \" + str(timepoints_for_maneuver_morton_setting_y_to_0))"
   ]
  },
  {
   "cell_type": "markdown",
   "id": "021f3c04-1fb4-4902-a3d3-1368f3987f72",
   "metadata": {},
   "source": [
    "Now, the number of values matches the ones from the brute-force approach. Let's check whether the lists are identical:"
   ]
  },
  {
   "cell_type": "code",
   "execution_count": 113,
   "id": "86e216b8-f047-48cc-88d4-bbde18be0db8",
   "metadata": {},
   "outputs": [
    {
     "name": "stdout",
     "output_type": "stream",
     "text": [
      "[90066564446148.0, 90066564495895.0, 90066564545893.0, 90066564595904.0, 90066564645871.0, 90066564695876.0, 90066564745892.0, 90066564795926.0]\n",
      "[90066564446148.0, 90066564495895.0, 90066564545893.0, 90066564595904.0, 90066564645871.0, 90066564695876.0, 90066564745892.0, 90066564795926.0]\n",
      "The lists are identical.\n"
     ]
    }
   ],
   "source": [
    "print( str(times_for_maneuver) )\n",
    "print( str(timepoints_for_maneuver_morton_y_is_0) )\n",
    "\n",
    "if times_for_maneuver == timepoints_for_maneuver_morton_setting_y_to_0:\n",
    "    print(\"The lists are identical.\")\n",
    "else:\n",
    "    print(\"The lists are not identical.\")"
   ]
  },
  {
   "cell_type": "markdown",
   "id": "6eef49a0-ea39-4ac3-a74e-d63e9cffc284",
   "metadata": {},
   "source": [
    "So far, we have demonstrated how to use Morton values for a single dimension while using a constant for the other dimension, ie., `y = 0`.\n",
    "\n",
    "Now, we use both, the real lateral and longitudinal accelerations."
   ]
  },
  {
   "cell_type": "code",
   "execution_count": 114,
   "id": "73d59887-1153-463e-a38f-08abde61be2b",
   "metadata": {},
   "outputs": [
    {
     "name": "stdout",
     "output_type": "stream",
     "text": [
      "90066554895574.0: (-0.8444923,0.1022399) --> 1043213\n",
      "90066554945599.0: (-0.668745,-0.1258405) --> 1042075\n",
      "90066554995606.0: (-0.9835685,0.1231426) --> 1042993\n",
      "90066555045596.0: (-0.7277404,-0.1817489) --> 1041271\n",
      "90066555095560.0: (-0.8486654,0.07348659) --> 1042863\n",
      "90066555145602.0: (-0.6911783,-0.121459) --> 1042062\n",
      "90066555195612.0: (-0.8817868,0.1063761) --> 1043037\n",
      "90066555245543.0: (-0.6518968,-0.1288908) --> 1042078\n",
      "90066555295612.0: (-0.9034342,0.1257638) --> 1043057\n",
      "90066555345551.0: (-0.7057287,-0.115673) --> 1042081\n",
      "90066555395565.0: (-0.9611551,0.1024586) --> 1042973\n",
      "90066555445902.0: (-0.8725309,-0.1549342) --> 1041280\n",
      "90066555495627.0: (-1.036656,-0.03717339) --> 1042464\n",
      "90066555545615.0: (-1.130846,0.09871539) --> 1031958\n",
      "90066555595574.0: (-1.241084,-0.03325236) --> 1031269\n",
      "90066555645582.0: (-1.276467,-0.1026151) --> 1029858\n",
      "90066555695577.0: (-1.300929,-0.05037307) --> 1031193\n",
      "90066555745609.0: (-1.315992,-0.0225835) --> 1031218\n",
      "90066555795654.0: (-1.361566,0.02452186) --> 1030621\n",
      "90066555845572.0: (-1.345597,0.01803352) --> 1031299\n",
      "90066555895608.0: (-1.38821,0.02092441) --> 1030617\n",
      "90066555945581.0: (-1.393638,0.04349643) --> 1030640\n",
      "90066555995630.0: (-1.494956,0.02694826) --> 1030540\n",
      "90066556045571.0: (-1.597419,0.004144719) --> 1030336\n",
      "90066556095667.0: (-1.749776,-0.03340314) --> 1027425\n",
      "90066556145646.0: (-1.822001,-0.01458492) --> 1027369\n",
      "90066556195680.0: (-2.019782,-0.04319959) --> 1026398\n",
      "90066556245666.0: (-2.010019,-0.003288073) --> 1026430\n",
      "90066556295657.0: (-2.12956,-0.1064838) --> 1024935\n",
      "90066556345653.0: (-2.025778,0.027263) --> 1026521\n",
      "90066556395615.0: (-2.198004,-0.04890189) --> 1026138\n",
      "90066556445889.0: (-2.100999,-0.04292072) --> 1026331\n",
      "90066556495650.0: (-2.007658,0.0007538478) --> 1026517\n",
      "90066556545590.0: (-2.094607,0.02892686) --> 1026460\n",
      "90066556595599.0: (-1.837279,0.06933162) --> 1027496\n",
      "90066556645618.0: (-1.844005,0.09930404) --> 1027671\n",
      "90066556695617.0: (-1.840613,-0.02742578) --> 1027191\n",
      "90066556745633.0: (-1.78455,-0.03730607) --> 1027377\n",
      "90066556795630.0: (-1.643375,0.02718077) --> 1030285\n",
      "90066556845604.0: (-1.709916,0.04853335) --> 1027569\n",
      "90066556895618.0: (-1.749827,0.1374524) --> 1027939\n",
      "90066556945624.0: (-1.703734,-0.1079506) --> 1026035\n",
      "90066556995649.0: (-1.844294,0.08947289) --> 1027669\n",
      "90066557045615.0: (-1.694315,-0.01645007) --> 1027452\n",
      "90066557095624.0: (-1.869788,-0.06849588) --> 1027155\n",
      "90066557145672.0: (-1.808071,-0.07963008) --> 1027333\n",
      "90066557195669.0: (-1.739701,0.002501468) --> 1027524\n",
      "90066557245609.0: (-1.776842,0.04418232) --> 1027508\n",
      "90066557295665.0: (-1.877699,0.07610722) --> 1027322\n",
      "90066557345658.0: (-1.888305,-0.1634728) --> 1025647\n",
      "90066557395646.0: (-1.967101,-0.008827799) --> 1027119\n",
      "90066557445984.0: (-1.977456,0.02150839) --> 1027212\n",
      "90066557495658.0: (-1.824721,0.02464625) --> 1027465\n",
      "90066557545670.0: (-2.050314,-0.008652381) --> 1026414\n",
      "90066557595697.0: (-1.912153,0.01701865) --> 1027266\n",
      "90066557645742.0: (-2.092249,0.179892) --> 1026966\n",
      "90066557695668.0: (-1.986887,0.07333695) --> 1027243\n",
      "90066557745659.0: (-2.190212,0.07023003) --> 1026298\n",
      "90066557795715.0: (-2.177106,0.08647809) --> 1026644\n",
      "90066557845633.0: (-1.947315,-0.002171416) --> 1027131\n",
      "90066557895650.0: (-1.570878,-0.1168185) --> 1028836\n",
      "90066557945660.0: (-2.059803,0.1170315) --> 1026894\n",
      "90066557995695.0: (-1.907451,-0.1279688) --> 1025739\n",
      "90066558045655.0: (-1.992702,-0.2768698) --> 1025184\n",
      "90066558095642.0: (-2.114617,-0.01608168) --> 1026360\n",
      "90066558145694.0: (-2.175775,0.1634949) --> 1026772\n",
      "90066558195713.0: (-2.299844,0.0296746) --> 1026188\n",
      "90066558245689.0: (-2.264194,0.009761339) --> 1026193\n",
      "90066558295681.0: (-2.162713,-0.04646019) --> 1026143\n",
      "90066558345684.0: (-2.414883,0.386371) --> 2381244\n",
      "90066558395689.0: (-2.237096,0.09068477) --> 1026626\n",
      "90066558445990.0: (-1.933687,-0.191207) --> 1025588\n",
      "90066558495751.0: (-2.109204,-0.1742303) --> 1024825\n",
      "90066558545669.0: (-2.041632,-0.006220391) --> 1026415\n",
      "90066558595715.0: (-2.207686,0.3005482) --> 2424941\n",
      "90066558645692.0: (-1.981854,-0.08751832) --> 1025707\n",
      "90066558695750.0: (-1.857674,-0.3109626) --> 1025236\n",
      "90066558745714.0: (-1.994612,0.02791799) --> 1027208\n",
      "90066558795755.0: (-1.89055,0.03216014) --> 1027278\n",
      "90066558845705.0: (-2.070597,-0.01847148) --> 1026408\n",
      "90066558895720.0: (-1.933442,-0.0804479) --> 1025726\n",
      "90066558945687.0: (-2.090726,0.1375539) --> 1026870\n",
      "90066558995745.0: (-1.770826,-0.3037702) --> 1025430\n",
      "90066559045678.0: (-1.832576,0.1106722) --> 1027850\n",
      "90066559095685.0: (-1.816264,-0.05804622) --> 1027340\n",
      "90066559145749.0: (-1.882634,0.07345512) --> 1027311\n",
      "90066559195724.0: (-1.589556,0.1339842) --> 1030755\n",
      "90066559245693.0: (-1.458568,-0.02457372) --> 1030454\n",
      "90066559295723.0: (-1.50659,0.1292439) --> 1030945\n",
      "90066559345682.0: (-1.32992,-0.001301231) --> 1031215\n",
      "90066559395698.0: (-0.8056066,-0.1853526) --> 1041207\n",
      "90066559446061.0: (-0.9268732,-0.005778466) --> 1042543\n",
      "90066559495676.0: (-0.9697844,-0.02598125) --> 1042487\n",
      "90066559545722.0: (-0.8339149,-0.03456162) --> 1042736\n",
      "90066559595711.0: (-0.9396116,-0.06807529) --> 1042502\n",
      "90066559645753.0: (-1.091545,0.1663837) --> 1032132\n",
      "90066559695758.0: (-0.8750178,-0.09198063) --> 1041320\n",
      "90066559745695.0: (-0.8021161,-0.2094736) --> 1041183\n",
      "90066559795769.0: (-0.9052757,-0.09435558) --> 1041145\n",
      "90066559845715.0: (-0.9046215,0.1742421) --> 1043155\n",
      "90066559895715.0: (-0.7338373,0.02444443) --> 1042908\n",
      "90066559945767.0: (-0.9421503,0.1594324) --> 1043051\n",
      "90066559995772.0: (-0.6405057,-0.2720892) --> 1041589\n",
      "90066560045755.0: (-0.8955051,0.03089818) --> 1042654\n",
      "90066560095748.0: (-0.4741646,0.1335351) --> 1044322\n",
      "90066560145766.0: (-0.4869518,0.04312119) --> 1043893\n",
      "90066560195761.0: (-0.807313,0.1104003) --> 1043231\n",
      "90066560245749.0: (-0.6785382,0.1772714) --> 1044114\n",
      "90066560295738.0: (-0.7106909,0.04489739) --> 1043616\n",
      "90066560345716.0: (-0.693607,0.002213377) --> 1043588\n",
      "90066560395727.0: (-0.6681007,0.1059686) --> 1043993\n",
      "90066560446065.0: (-0.6546802,-0.05257115) --> 1043484\n",
      "90066560495768.0: (-0.588991,-0.03352649) --> 1043569\n",
      "90066560545770.0: (-0.7722476,-0.2319096) --> 1041220\n",
      "90066560595715.0: (-0.82306,0.04258865) --> 1042865\n",
      "90066560645741.0: (-0.6902149,0.1170234) --> 1043982\n",
      "90066560695757.0: (-0.7341855,-0.1248637) --> 1041374\n",
      "90066560745769.0: (-0.9392875,0.1249648) --> 1043044\n",
      "90066560795791.0: (-0.7697855,0.03586259) --> 1042895\n",
      "90066560845775.0: (-1.180896,0.3182678) --> 2430251\n",
      "90066560895761.0: (-0.6402035,0.00539643) --> 1043605\n",
      "90066560945749.0: (-0.7733266,-0.2422221) --> 1040878\n",
      "90066560995781.0: (-0.7944298,-0.3528878) --> 1040736\n",
      "90066561045743.0: (-0.9086934,-0.1933178) --> 1041009\n",
      "90066561095736.0: (-0.6736128,-0.03172576) --> 1043504\n",
      "90066561145816.0: (-0.9142693,0.1142377) --> 1043034\n",
      "90066561195802.0: (-0.9942642,0.5081977) --> 2441880\n",
      "90066561245788.0: (-0.6786137,-0.0174919) --> 1043512\n",
      "90066561295787.0: (-0.6814017,-0.3569675) --> 1041445\n",
      "90066561345840.0: (-0.7629104,-0.2772973) --> 1040869\n",
      "90066561395763.0: (-1.184417,0.1991234) --> 1032075\n",
      "90066561446128.0: (-0.8023718,-0.5896434) --> 1034679\n",
      "90066561495766.0: (-0.9366568,-0.01327511) --> 1042540\n",
      "90066561545766.0: (-1.007683,0.2671112) --> 2441229\n",
      "90066561595771.0: (-0.8419622,0.1695411) --> 1043333\n",
      "90066561645765.0: (-0.7876744,-0.02344785) --> 1042787\n",
      "90066561695754.0: (-0.8659795,0.1876944) --> 1043337\n",
      "90066561745775.0: (-0.9256217,-0.05288299) --> 1042509\n",
      "90066561795865.0: (-0.9985169,-0.1002644) --> 1041074\n",
      "90066561845755.0: (-0.7845778,-0.3884065) --> 1040707\n",
      "90066561895771.0: (-0.855639,-0.1636181) --> 1041198\n",
      "90066561945795.0: (-0.940336,-0.05870843) --> 1042505\n",
      "90066561995844.0: (-0.8739558,-0.06284703) --> 1042690\n",
      "90066562045767.0: (-0.7384994,-0.02205174) --> 1042806\n",
      "90066562095798.0: (-0.791798,-0.0656228) --> 1042754\n",
      "90066562145841.0: (-0.662474,-0.09655276) --> 1042105\n",
      "90066562195840.0: (-0.8418716,0.07689697) --> 1042863\n",
      "90066562245774.0: (-0.7767482,0.0148055) --> 1042886\n",
      "90066562295805.0: (-0.8207978,-0.02063882) --> 1042739\n",
      "90066562345804.0: (-0.8311242,-0.1151562) --> 1041328\n",
      "90066562395801.0: (-0.6844991,-0.1359687) --> 1042061\n",
      "90066562446101.0: (-0.6457585,0.0112321) --> 1043607\n",
      "90066562495854.0: (-0.5784141,-0.03363542) --> 1043572\n",
      "90066562545829.0: (-0.5267364,-0.03231567) --> 1043749\n",
      "90066562595879.0: (-0.5172589,-0.03559247) --> 1043760\n",
      "90066562645849.0: (-0.6248381,-0.1738265) --> 1042025\n",
      "90066562695852.0: (-0.5767903,0.08838453) --> 1044052\n",
      "90066562745832.0: (-0.3795226,0.3114709) --> 2445358\n",
      "90066562795846.0: (-0.4055339,0.1837123) --> 1044445\n",
      "90066562845780.0: (-0.5792766,-0.1311425) --> 1042140\n",
      "90066562895807.0: (-0.6807823,-0.1382387) --> 1042061\n",
      "90066562945798.0: (-0.7769775,0.1606704) --> 1043396\n",
      "90066562995850.0: (-0.6006263,0.06795853) --> 1043693\n",
      "90066563045853.0: (-0.4752606,-0.3516011) --> 1041760\n",
      "90066563095831.0: (-0.6113067,0.06998878) --> 1043692\n",
      "90066563145856.0: (-0.6645511,0.06980067) --> 1043641\n",
      "90066563195880.0: (-0.4785917,0.102077) --> 1044296\n",
      "90066563245792.0: (-0.5783889,-0.03477026) --> 1043572\n",
      "90066563295849.0: (-0.5262114,-0.09238917) --> 1042349\n",
      "90066563345872.0: (-0.5710452,0.1393503) --> 1044086\n",
      "90066563395856.0: (-0.432624,0.05049985) --> 1043954\n",
      "90066563446174.0: (-0.09284098,-0.2431228) --> 1044990\n",
      "90066563495837.0: (0.8942552,0.1083589) --> 1751561\n",
      "90066563545848.0: (1.507012,-0.01404678) --> 1752444\n",
      "90066563595864.0: (3.567866,-0.1083912) --> 1815282\n",
      "90066563645812.0: (3.746455,0.1361646) --> 1817462\n",
      "90066563695842.0: (4.665256,-0.364375) --> 1828174\n",
      "90066563745848.0: (4.685347,-0.002317208) --> 1830266\n",
      "90066563795904.0: (4.875669,0.1492797) --> 1833597\n",
      "90066563845854.0: (5.018488,0.2412766) --> 3232081\n",
      "90066563895874.0: (4.478369,0.32392) --> 3228821\n",
      "90066563945885.0: (4.850178,0.06402233) --> 1833209\n",
      "90066563995869.0: (4.83911,-0.04668392) --> 1833039\n",
      "90066564045860.0: (5.386592,-0.02354425) --> 2009126\n",
      "90066564095856.0: (5.24577,-0.06200457) --> 1834258\n",
      "90066564145892.0: (5.156896,-0.00568424) --> 1834095\n",
      "90066564195915.0: (5.0278,-0.000824442) --> 1833342\n",
      "90066564245838.0: (5.074139,0.02023268) --> 1834125\n",
      "90066564295870.0: (5.281409,-0.06416196) --> 1834306\n",
      "90066564345876.0: (5.197826,0.1737754) --> 1834711\n",
      "90066564395854.0: (5.092175,0.03870501) --> 1834139\n",
      "90066564446148.0: (5.468379,-0.1759386) --> 2007660\n",
      "90066564495895.0: (5.402384,0.1968852) --> 2009754\n",
      "90066564545893.0: (5.629744,-0.04577147) --> 2009422\n",
      "90066564595904.0: (5.509354,0.02926934) --> 2009308\n",
      "90066564645871.0: (5.489079,0.07412507) --> 2009338\n",
      "90066564695876.0: (5.533968,-0.0267795) --> 2009379\n",
      "90066564745892.0: (5.549309,0.0844233) --> 2009860\n",
      "90066564795926.0: (5.488881,-0.2014317) --> 2007642\n",
      "90066564845908.0: (5.229799,-0.07624222) --> 1834244\n",
      "90066564895878.0: (5.148145,0.09921136) --> 1834566\n",
      "90066564945837.0: (4.822742,0.1098193) --> 1833548\n",
      "90066564995874.0: (3.854318,-0.02751538) --> 1817699\n",
      "90066565045938.0: (3.652316,0.04036522) --> 1817009\n",
      "90066565095906.0: (3.18092,-0.06000053) --> 1813526\n",
      "90066565145933.0: (3.294237,-0.01518857) --> 1813801\n",
      "90066565195909.0: (3.076751,0.1329601) --> 1813351\n",
      "90066565245875.0: (3.168933,-0.01772779) --> 1813560\n",
      "90066565295959.0: (2.941291,0.001682944) --> 1812692\n",
      "90066565345895.0: (3.08031,-0.08432674) --> 1811450\n",
      "90066565395874.0: (2.879175,-0.0789342) --> 1812501\n",
      "90066565446189.0: (2.914211,0.003651802) --> 1812677\n",
      "90066565495974.0: (3.027586,-0.08595598) --> 1811390\n",
      "90066565545883.0: (2.803405,0.0491953) --> 1812640\n",
      "90066565595870.0: (3.000466,-0.04064871) --> 1812762\n",
      "90066565645931.0: (2.747073,0.0215991) --> 1768908\n",
      "90066565695929.0: (2.975749,-0.01247568) --> 1812777\n",
      "90066565745930.0: (2.733266,0.03786379) --> 1768907\n",
      "90066565795939.0: (2.937245,-0.008465552) --> 1812603\n",
      "90066565845935.0: (2.71976,0.0008700945) --> 1768853\n",
      "90066565895939.0: (2.93104,0.01579027) --> 1812691\n",
      "90066565945934.0: (2.695581,-0.01889569) --> 1768761\n",
      "90066565995976.0: (2.975365,0.02832825) --> 1812873\n",
      "90066566045935.0: (3.466287,0.3745224) --> 3215526\n",
      "90066566095921.0: (1.510902,-0.006553691) --> 1752447\n",
      "90066566145992.0: (-0.1588292,-0.09310132) --> 1045480\n",
      "90066566195990.0: (-0.9512374,0.1124926) --> 1043018\n",
      "90066566245910.0: (-0.9870145,0.1768652) --> 1043091\n",
      "90066566295984.0: (-1.379021,0.2676028) --> 2429276\n",
      "90066566345982.0: (-0.47879,-0.07975168) --> 1043776\n",
      "90066566395973.0: (-0.6223483,0.004986537) --> 1043649\n",
      "90066566446247.0: (-0.5667167,-0.129926) --> 1042143\n",
      "90066566495984.0: (-0.8036547,0.005841999) --> 1042837\n",
      "90066566545926.0: (-0.9259987,-0.04439191) --> 1042511\n",
      "90066566595938.0: (-0.8160298,0.06796182) --> 1042876\n",
      "90066566645943.0: (-0.8552305,-0.03094334) --> 1042724\n",
      "Processed 236 rows.\n"
     ]
    }
   ],
   "source": [
    "counter = 0\n",
    "for _, row in df.iterrows():\n",
    "    morton = calculateMortonFromXYAccelerationFloats(row['accel_x'], row['accel_y'])\n",
    "    print( str(row['timestamp']) + \": (\" + str(row['accel_x']) + \",\" + str(row['accel_y']) + \") --> \" + str(morton) )\n",
    "    counter = counter + 1\n",
    "print( \"Processed \" + str(counter) + \" rows.\" )"
   ]
  },
  {
   "cell_type": "markdown",
   "id": "7ef2afd4-4f22-4be5-9555-7f05bf3ee313",
   "metadata": {},
   "source": [
    "Let's create a tabular representation again:"
   ]
  },
  {
   "cell_type": "code",
   "execution_count": 115,
   "id": "7751afb1-9749-42c1-a5a5-a01c6d4f8ed2",
   "metadata": {},
   "outputs": [
    {
     "name": "stdout",
     "output_type": "stream",
     "text": [
      "      morton     timestamp\n",
      "0    1043213  9.006655e+13\n",
      "1    1042075  9.006655e+13\n",
      "2    1042993  9.006655e+13\n",
      "3    1041271  9.006656e+13\n",
      "4    1042863  9.006656e+13\n",
      "..       ...           ...\n",
      "231  1042143  9.006657e+13\n",
      "232  1042837  9.006657e+13\n",
      "233  1042511  9.006657e+13\n",
      "234  1042876  9.006657e+13\n",
      "235  1042724  9.006657e+13\n",
      "\n",
      "[236 rows x 2 columns]\n"
     ]
    }
   ],
   "source": [
    "lst = []\n",
    "for _, row in df.iterrows():\n",
    "    morton = calculateMortonFromXYAccelerationFloats(row['accel_x'], row['accel_y'])\n",
    "    lst.append({'morton': morton, 'timestamp': row['timestamp']})\n",
    "\n",
    "df2 = pd.DataFrame(lst, columns=['morton', 'timestamp'])\n",
    "print( df2 )"
   ]
  },
  {
   "cell_type": "markdown",
   "id": "9b5a7c3f-923c-42fd-bca6-278f95612b0e",
   "metadata": {},
   "source": [
    "Let's look at the data how it is stored in the new table. As we deal with single-dimensional data, we use a stripe plot for clarity."
   ]
  },
  {
   "cell_type": "code",
   "execution_count": 116,
   "id": "bfe176fe-c28f-4cf6-82b2-aff0203b3629",
   "metadata": {},
   "outputs": [
    {
     "data": {
      "image/png": "[encoded data removed]",
      "text/plain": [
       "<Figure size 640x480 with 1 Axes>"
      ]
     },
     "metadata": {},
     "output_type": "display_data"
    }
   ],
   "source": [
    "from matplotlib import pyplot as plt\n",
    "\n",
    "plt.figure()\n",
    "data = df2['morton']\n",
    "plt.ylim( (0,1) )\n",
    "plt.eventplot(data, orientation='horizontal', colors='b', lineoffsets=0.5)\n",
    "plt.show()"
   ]
  },
  {
   "cell_type": "markdown",
   "id": "a19d2c32-2aaf-49d2-a453-d5195c1b07a4",
   "metadata": {},
   "source": [
    "So, the question is how to interpret the new data that we generated using the Morton computations. Let's iterate over all new rows to split the tuples `(Morton value, timestamp)` such that those Morton values, which do not belong to the time points when the vehicle exhibited an emergency braking maneuver (that we calculated already before using a computationally expensive approach), are in one group (`group_A`) and the others in another group (`group_B`). Then, we can color both groups differently for clarity in the plot. "
   ]
  },
  {
   "cell_type": "code",
   "execution_count": 117,
   "id": "880edf50-c341-4543-9ff6-0ac4eeef6265",
   "metadata": {},
   "outputs": [
    {
     "data": {
      "image/png": "[encoded data removed]",
      "text/plain": [
       "<Figure size 640x480 with 1 Axes>"
      ]
     },
     "metadata": {},
     "output_type": "display_data"
    }
   ],
   "source": [
    "group_A = []\n",
    "group_B = []\n",
    "for _, row in df2.iterrows():\n",
    "    morton = row['morton']\n",
    "    timestamp = row['timestamp']\n",
    "    if timestamp in times_for_maneuver:\n",
    "        group_A.append(morton)\n",
    "    else:\n",
    "        group_B.append(morton)\n",
    "\n",
    "plt.figure()\n",
    "data = [group_A, group_B]\n",
    "data_colors = ['red', 'lightgray']\n",
    "plt.ylim( (0,1) )\n",
    "plt.eventplot(data, orientation='horizontal', colors=data_colors, lineoffsets=[0.5, 0.5])\n",
    "plt.show()"
   ]
  },
  {
   "cell_type": "markdown",
   "id": "43442779-6f9d-495d-aead-9159d6841932",
   "metadata": {},
   "source": [
    "It seems that the emergency braking maneuver of interest is gathering in a certain spectrum of our single-dimensional representation; and actually, we can exploit this accumulation when we sort our tabular representation of tuples `(Morton value, timestamp)` by increasing Morton values:"
   ]
  },
  {
   "cell_type": "code",
   "execution_count": 118,
   "id": "a49c2949-6bce-4b1f-8f8e-b45198190a96",
   "metadata": {},
   "outputs": [
    {
     "name": "stdout",
     "output_type": "stream",
     "text": [
      "      morton     timestamp\n",
      "72   1024825  9.006656e+13\n",
      "28   1024935  9.006656e+13\n",
      "63   1025184  9.006656e+13\n",
      "76   1025236  9.006656e+13\n",
      "82   1025430  9.006656e+13\n",
      "..       ...           ...\n",
      "126  2441880  9.006656e+13\n",
      "157  2445358  9.006656e+13\n",
      "223  3215526  9.006657e+13\n",
      "180  3228821  9.006656e+13\n",
      "179  3232081  9.006656e+13\n",
      "\n",
      "[236 rows x 2 columns]\n"
     ]
    }
   ],
   "source": [
    "df2 = df2.sort_values(by=['morton'])\n",
    "print( df2 )"
   ]
  },
  {
   "cell_type": "markdown",
   "id": "0b0d94cf-a824-422b-9ef7-ef23c8d60de6",
   "metadata": {},
   "source": [
    "Now, we can exploit our knowledge from before that the emergency braking maneuver accumulates around the Morton values between 2.00922e6 and 2.0099e6 and hence, we can simply filter by keys within this range:"
   ]
  },
  {
   "cell_type": "code",
   "execution_count": 119,
   "id": "db15e716-91ee-486f-a359-928f97fa26b7",
   "metadata": {},
   "outputs": [
    {
     "name": "stdout",
     "output_type": "stream",
     "text": [
      "Length of maneuver: 6, entries: [2009308, 2009338, 2009379, 2009422, 2009754, 2009860]\n"
     ]
    }
   ],
   "source": [
    "dict_of_morton_to_timestamps = dict(zip(df2.morton, df2.timestamp))\n",
    "matches = list(filter( lambda k: k > 2.00922e6 and k < 2.0099e6, dict_of_morton_to_timestamps.keys()) )\n",
    "print( \"Length of maneuver: \" + str(len(matches)) + \", entries: \" + str(matches))"
   ]
  },
  {
   "cell_type": "markdown",
   "id": "992d0830-e443-48f6-889e-98c432b47ccd",
   "metadata": {},
   "source": [
    "Using the same lower and upper limits for the range to match the keys as for the previous case when we used a constant for y does not yield the same results. This is understandable as the Morton values differ because their are computed based on two dimensions and hence, we need to relax the range filter. Therefore, we use a larger area: 1.9e6 up to 2.1e6 as the emergency braking seems to cluster around 2.0e6:"
   ]
  },
  {
   "cell_type": "code",
   "execution_count": 120,
   "id": "184381a3-e21d-43e9-9f13-6ccb74da9036",
   "metadata": {},
   "outputs": [
    {
     "name": "stdout",
     "output_type": "stream",
     "text": [
      "Length of maneuver: 9, entries: [2007642, 2007660, 2009126, 2009308, 2009338, 2009379, 2009422, 2009754, 2009860]\n"
     ]
    }
   ],
   "source": [
    "dict_of_morton_to_timestamps = dict(zip(df2.morton, df2.timestamp))\n",
    "matches = list(filter( lambda k: k > 1.9e6 and k < 2.1e6, dict_of_morton_to_timestamps.keys()) )\n",
    "print( \"Length of maneuver: \" + str(len(matches)) + \", entries: \" + str(matches))"
   ]
  },
  {
   "cell_type": "markdown",
   "id": "0f24012d-e364-4077-bc68-d4a94130f3da",
   "metadata": {},
   "source": [
    "Now, we received those Morton codes that are between the specified minimum and maximum values but the list is longer than the one we got based on the brute-force detector. Let's decode the Morton values to compare the encoded accelerations:"
   ]
  },
  {
   "cell_type": "code",
   "execution_count": 121,
   "id": "7d1d0e62-d02f-4063-9c42-2971deb48e64",
   "metadata": {},
   "outputs": [
    {
     "name": "stdout",
     "output_type": "stream",
     "text": [
      "2007642 --> (5.48,-0.21)\n",
      "2007660 --> (5.46,-0.18)\n",
      "2009126 --> (5.38,-0.03)\n",
      "2009308 --> (5.5,0.02)\n",
      "2009338 --> (5.48,0.07)\n",
      "2009379 --> (5.53,-0.03)\n",
      "2009422 --> (5.62,-0.05)\n",
      "2009754 --> (5.4,0.19)\n",
      "2009860 --> (5.54,0.08)\n"
     ]
    }
   ],
   "source": [
    "for morton in matches:\n",
    "    acc = calculateXYAccelerationFloatsFromMorton(morton)\n",
    "    print( str(morton) + \" --> \" + \"(\" + str(acc[0]) + \",\" + str(acc[1]) + \")\")"
   ]
  },
  {
   "cell_type": "markdown",
   "id": "fe3e1bbd-ba76-4091-9a44-27961d838c6e",
   "metadata": {},
   "source": [
    "As we can see, the third item maps a Morton value to the tuple `(5.38, -0.03)`, which is below the threshold of `5.4` that we defined above. Next, we match the Morton values that act as keys in our dictionary `dict_of_morton_to_timestamps` with the list of `times_for_maneuver` from the brute-force approach to validate that we actually found the correct elements for the one with the correct accelerations:"
   ]
  },
  {
   "cell_type": "code",
   "execution_count": 122,
   "id": "bfda7788-6632-4e77-a8bb-40041251ddf6",
   "metadata": {},
   "outputs": [
    {
     "name": "stdout",
     "output_type": "stream",
     "text": [
      "[90066564446148.0, 90066564495895.0, 90066564545893.0, 90066564595904.0, 90066564645871.0, 90066564695876.0, 90066564745892.0, 90066564795926.0]\n",
      "[90066564446148.0, 90066564495895.0, 90066564545893.0, 90066564595904.0, 90066564645871.0, 90066564695876.0, 90066564745892.0, 90066564795926.0]\n",
      "The lists are identical.\n"
     ]
    }
   ],
   "source": [
    "times_for_maneuver_morton = []\n",
    "for morton in matches:\n",
    "    acc = calculateXYAccelerationFloatsFromMorton(morton)\n",
    "    if acc[0] > threshold:\n",
    "        times_for_maneuver_morton.append(dict_of_morton_to_timestamps[morton])\n",
    "times_for_maneuver.sort()\n",
    "times_for_maneuver_morton.sort()\n",
    "\n",
    "print( str(times_for_maneuver) )\n",
    "print( str(times_for_maneuver_morton) )\n",
    "\n",
    "if times_for_maneuver == times_for_maneuver_morton:\n",
    "    print(\"The lists are identical.\")\n",
    "else:\n",
    "    print(\"The lists are not identical.\")"
   ]
  },
  {
   "cell_type": "markdown",
   "id": "6b9db407-75c2-403b-9c33-bf1ae2489eb1",
   "metadata": {},
   "source": [
    "Let's compare the computational performance for both event detectors, starting with the previous one that is operating on the multi-dimensional data space (the print statements have been disabled):"
   ]
  },
  {
   "cell_type": "code",
   "execution_count": 123,
   "id": "524d54d2-5de5-435e-bdf7-0839f4edf8f4",
   "metadata": {},
   "outputs": [
    {
     "name": "stdout",
     "output_type": "stream",
     "text": [
      "3.21 ms ± 19 µs per loop (mean ± std. dev. of 7 runs, 100 loops each)\n"
     ]
    }
   ],
   "source": [
    "%%timeit\n",
    "threshold = 5.4\n",
    "times_for_maneuver = []\n",
    "for _, row in df.iterrows():\n",
    "    #print( str(row['timestamp']) + \": \"+ str(row['accel_x']) )\n",
    "    if row['accel_x'] > threshold:\n",
    "        #print( \"Maneuver at \" + str(row['timestamp']) )\n",
    "        times_for_maneuver.append(row['timestamp'])"
   ]
  },
  {
   "cell_type": "markdown",
   "id": "b10aff65-2952-4abb-9f3a-5950a9ffc00f",
   "metadata": {},
   "source": [
    "Now, let's time the key ranges look-up (the print statement has been disabled):"
   ]
  },
  {
   "cell_type": "code",
   "execution_count": 124,
   "id": "1f9ac0b8-fd56-4b0c-86bf-69e3063f341a",
   "metadata": {},
   "outputs": [
    {
     "name": "stdout",
     "output_type": "stream",
     "text": [
      "59.7 µs ± 198 ns per loop (mean ± std. dev. of 7 runs, 10,000 loops each)\n"
     ]
    }
   ],
   "source": [
    "%%timeit\n",
    "my_dict = dict(zip(df2.morton, df2.timestamp))\n",
    "l = list(filter( lambda k: k > 1.9e6 and k < 2.1e6, my_dict.keys()))\n",
    "#print(str(l))"
   ]
  },
  {
   "cell_type": "markdown",
   "id": "9819b0e8-fcda-43cb-99cf-0947142b9ca1",
   "metadata": {},
   "source": [
    "The dict-based key look-up using a range filter is much faster than the `O(n)` event look-up. Let's only sort out the final question why the `O(n)`, brute-force look-up is returning 8 hits when the dict-based look-up is returning 9 hits. Therefore, we transform the matching Morton values back into their corresponding accelerations for X/Y dimensions:"
   ]
  },
  {
   "cell_type": "markdown",
   "id": "7074cf6b-4ae2-4c53-ad97-0ecbc17b081d",
   "metadata": {},
   "source": [
    "Finally, we need to check whether our key-based range look-up does not react when there is no emergency braking maneuver, ie., no peak in the data. Therefore, we simpy replace `accel_x` with `accel_z` and repeat the analysis."
   ]
  },
  {
   "cell_type": "code",
   "execution_count": 125,
   "id": "7d7c1424-31f2-4203-9ce7-15528ea8f824",
   "metadata": {},
   "outputs": [
    {
     "name": "stdout",
     "output_type": "stream",
     "text": [
      "      morton     timestamp\n",
      "0    1747724  9.006655e+13\n",
      "1    1045454  9.006655e+13\n",
      "2    1048437  9.006655e+13\n",
      "3    1045287  9.006656e+13\n",
      "4    1047806  9.006656e+13\n",
      "..       ...           ...\n",
      "231  1046431  9.006657e+13\n",
      "232  1047764  9.006657e+13\n",
      "233  1047578  9.006657e+13\n",
      "234  1047032  9.006657e+13\n",
      "235  1047588  9.006657e+13\n",
      "\n",
      "[236 rows x 2 columns]\n"
     ]
    },
    {
     "data": {
      "image/png": "[encoded data removed]",
      "text/plain": [
       "<Figure size 640x480 with 1 Axes>"
      ]
     },
     "metadata": {},
     "output_type": "display_data"
    }
   ],
   "source": [
    "lst = []\n",
    "for _, row in df.iterrows():\n",
    "    morton = calculateMortonFromXYAccelerationFloats(row['accel_z'], row['accel_y'])\n",
    "    lst.append({'morton': morton, 'timestamp': row['timestamp']})\n",
    "\n",
    "df3 = pd.DataFrame(lst, columns=['morton', 'timestamp'])\n",
    "print( df3 )\n",
    "\n",
    "plt.figure()\n",
    "data = df3['morton']\n",
    "plt.ylim( (0,1) )\n",
    "plt.eventplot(data, orientation='horizontal', colors='b', lineoffsets=0.5)\n",
    "plt.show()"
   ]
  },
  {
   "cell_type": "markdown",
   "id": "86828e58-34d0-45ff-ab30-b9066c86528d",
   "metadata": {},
   "source": [
    "And indeed, the stripes around 2.0e6 disappeared as expected."
   ]
  }
 ],
 "metadata": {
  "kernelspec": {
   "display_name": "Python 3 (ipykernel)",
   "language": "python",
   "name": "python3"
  },
  "language_info": {
   "codemirror_mode": {
    "name": "ipython",
    "version": 3
   },
   "file_extension": ".py",
   "mimetype": "text/x-python",
   "name": "python",
   "nbconvert_exporter": "python",
   "pygments_lexer": "ipython3",
   "version": "3.11.6"
  }
 },
 "nbformat": 4,
 "nbformat_minor": 5
}
